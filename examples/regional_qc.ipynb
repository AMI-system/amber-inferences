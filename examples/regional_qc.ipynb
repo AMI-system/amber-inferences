{
 "cells": [
  {
   "cell_type": "markdown",
   "metadata": {},
   "source": [
    "# Regional QC"
   ]
  },
  {
   "cell_type": "code",
   "execution_count": null,
   "metadata": {},
   "outputs": [],
   "source": [
    "import os\n",
    "import pandas as pd\n",
    "import matplotlib.pyplot as plt\n",
    "import boto3\n",
    "import json\n",
    "from boto3.s3.transfer import TransferConfig\n",
    "from PIL import Image\n",
    "import seaborn as sns\n",
    "\n",
    "os.environ[\"KMP_DUPLICATE_LIB_OK\"]=\"TRUE\""
   ]
  },
  {
   "cell_type": "code",
   "execution_count": null,
   "metadata": {},
   "outputs": [],
   "source": [
    "region='tha'\n",
    "country='thailand'\n",
    "download_dir=f'./data/qc_plots/{country}'\n",
    "os.makedirs(download_dir, exist_ok=True)\n",
    "\n",
    "inference_dir = f'./data/{country}_inferences/'\n",
    "# inference_csvs = os.listdir(inference_dir)\n",
    "\n",
    "#listdir recursively\n",
    "def listdir_recursive(path):\n",
    "    for root, dirs, files in os.walk(path):\n",
    "        for file in files:\n",
    "            yield os.path.join(root, file)\n",
    "\n",
    "# Get all csv files in the inference directory\n",
    "inference_csvs = list(listdir_recursive(inference_dir))\n",
    "inference_csvs = [c for c in inference_csvs if c.endswith('.csv')]"
   ]
  },
  {
   "cell_type": "code",
   "execution_count": null,
   "metadata": {},
   "outputs": [],
   "source": [
    "inference_csvs"
   ]
  },
  {
   "cell_type": "code",
   "execution_count": null,
   "metadata": {},
   "outputs": [],
   "source": [
    "def annotate_image(image_path, dir, df, ax, scaling_required=False, crop_to_highlight=None, buffer=5, subtitle=None):\n",
    "    df_image = df.loc[df['image_path'] == image_path, ]\n",
    "\n",
    "    img = plt.imread(f\"{dir}/{os.path.basename(image_path)}\")\n",
    "    image = Image.open(f\"{dir}/{os.path.basename(image_path)}\").convert(\"RGB\")\n",
    "    subp = ax.imshow(img, origin='lower')\n",
    "\n",
    "    for j, row in df_image.iterrows():\n",
    "        x_min = row['x_min'] -buffer\n",
    "        y_min = row['y_min'] -buffer\n",
    "        x_max = row['x_max'] +buffer\n",
    "        y_max = row['y_max'] +buffer\n",
    "\n",
    "        if scaling_required:\n",
    "            original_width, original_height = image.size\n",
    "            x_min = x_min *300 / original_width\n",
    "            y_min = y_min *300 / original_height\n",
    "            x_max = x_max *300 / original_width\n",
    "            y_max = y_max *300 / original_height\n",
    "\n",
    "        x = int(x_min)\n",
    "        y = int(y_min)\n",
    "        w = int(x_max - x_min)\n",
    "        h = int(y_max - y_min)\n",
    "\n",
    "        if (row['class_name'] == \"moth\") and ('Lepidoptera' not in row['order_name']):\n",
    "            col = 'orange'\n",
    "        elif (row['class_name'] != \"moth\") and ('Lepidoptera' in row['order_name']):\n",
    "            col = 'purple'\n",
    "        elif (row['class_name'] == \"moth\") and ('Lepidoptera' in row['order_name']):\n",
    "                col = 'green'\n",
    "        else:\n",
    "            col = 'red'\n",
    "\n",
    "        alph = 1\n",
    "        if crop_to_highlight is not None:\n",
    "            if row['crop_status'] != crop_to_highlight:\n",
    "                alph = 0.2\n",
    "\n",
    "\n",
    "        if (row['class_name'] == \"moth\") or (\"Lepidoptera\" in row['order_name']):\n",
    "            ax.text(x_min, y_max,\n",
    "                    f\"{row['top_1_species']}: {row['top_1_confidence']:.2f}\",\n",
    "                    color=col,\n",
    "                    fontsize=5, alpha=alph,\n",
    "                    verticalalignment=\"bottom\")\n",
    "\n",
    "        rect = plt.Rectangle((x, y), w, h, fill=False, edgecolor=col, linewidth=1, alpha=alph)\n",
    "        ax.add_patch(rect)\n",
    "\n",
    "    if not subtitle:\n",
    "        subtitle=f\"{os.path.basename(image_path)}\"\n",
    "    ax.set_title(subtitle)\n",
    "    ax.axis('off')\n",
    "    return subp"
   ]
  },
  {
   "cell_type": "code",
   "execution_count": null,
   "metadata": {},
   "outputs": [],
   "source": [
    "def download_images(s3_client, config, key, download_dir, bucket_name):\n",
    "    download_path = os.path.join(download_dir, os.path.basename(key))\n",
    "    s3_client.download_file(bucket_name, key, download_path, Config=config)"
   ]
  },
  {
   "cell_type": "code",
   "execution_count": null,
   "metadata": {},
   "outputs": [],
   "source": [
    "def initialise_session(credentials_file=\"credentials.json\"):\n",
    "    \"\"\"\n",
    "    Load AWS and API credentials from a configuration file and initialise an AWS session.\n",
    "\n",
    "    Args:\n",
    "        credentials_file (str): Path to the credentials JSON file.\n",
    "\n",
    "    Returns:\n",
    "        boto3.Client: Initialised S3 client.\n",
    "    \"\"\"\n",
    "    with open(credentials_file, encoding=\"utf-8\") as config_file:\n",
    "        aws_credentials = json.load(config_file)\n",
    "    session = boto3.Session(\n",
    "        aws_access_key_id=aws_credentials[\"AWS_ACCESS_KEY_ID\"],\n",
    "        aws_secret_access_key=aws_credentials[\"AWS_SECRET_ACCESS_KEY\"],\n",
    "        region_name=aws_credentials[\"AWS_REGION\"],\n",
    "    )\n",
    "    client = session.client(\"s3\", endpoint_url=aws_credentials[\"AWS_URL_ENDPOINT\"])\n",
    "    return client\n",
    "\n",
    "client = initialise_session('./credentials.json')"
   ]
  },
  {
   "cell_type": "code",
   "execution_count": null,
   "metadata": {},
   "outputs": [],
   "source": [
    "# Transfer configuration for optimised S3 download\n",
    "transfer_config = TransferConfig(\n",
    "    max_concurrency=20,  # Increase the number of concurrent transfers\n",
    "    multipart_threshold=8 * 1024 * 1024,  # 8MB\n",
    "    max_io_queue=1000,\n",
    "    io_chunksize=262144,  # 256KB\n",
    ")"
   ]
  },
  {
   "cell_type": "code",
   "execution_count": null,
   "metadata": {},
   "outputs": [],
   "source": [
    "def moth_only_df(inference_csvs):\n",
    "    df = pd.DataFrame()\n",
    "    for c in inference_csvs:\n",
    "        input_df = pd.read_csv(c, low_memory=False)\n",
    "        input_df = input_df.loc[input_df['crop_status'] != 'NO DETECTIONS FOR IMAGE', ]\n",
    "        input_df = input_df.drop_duplicates(subset=[ 'x_min', 'x_max', 'y_min', 'y_max'])\n",
    "\n",
    "        input_df = input_df.loc[input_df['top_1_species'].isna() == False, ]\n",
    "        input_df['dep'] = os.path.basename(c).split('.')[0].split('_')[0]\n",
    "        input_df['crop_area'] = (input_df['x_max'] - input_df['x_min']) * (input_df['y_max'] - input_df['y_min'])\n",
    "\n",
    "        # set new keys column as 'dep' and 'image_path' combined\n",
    "        input_df['keys'] = input_df['image_path'].apply(lambda x: f\"{input_df['dep'].iloc[0]}/snapshot_images/{os.path.basename(x)}\")\n",
    "        df = pd.concat([df, input_df])\n",
    "        del input_df\n",
    "\n",
    "    return df"
   ]
  },
  {
   "cell_type": "code",
   "execution_count": null,
   "metadata": {},
   "outputs": [],
   "source": [
    "def cat_summary(inference_csvs, category='order_name'):\n",
    "    df = pd.DataFrame()\n",
    "    for c in inference_csvs:\n",
    "        input_df = pd.read_csv(c, low_memory=False)\n",
    "        input_df = input_df.loc[input_df['crop_status'] != 'NO DETECTIONS FOR IMAGE', ]\n",
    "        input_df = input_df.drop_duplicates(subset=[ 'x_min', 'x_max', 'y_min', 'y_max'])\n",
    "\n",
    "        input_df['dep'] = os.path.basename(c).split('.')[0].split('_')[0]\n",
    "        input_df['crop_area'] = (input_df['x_max'] - input_df['x_min']) * (input_df['y_max'] - input_df['y_min'])\n",
    "\n",
    "        # summarise the order_name by deployment\n",
    "        summary = input_df[['dep', category]].value_counts()\n",
    "        summary = summary.reset_index()\n",
    "        summary.columns = ['deployment', category, 'count']\n",
    "        summary['file'] = os.path.basename(c)\n",
    "\n",
    "        df = pd.concat([df, summary], ignore_index=True)\n",
    "        del input_df\n",
    "\n",
    "    df = df[['deployment', category, 'count']].groupby(['deployment', category]).sum().reset_index()\n",
    "\n",
    "    df = df.sort_values(by=['deployment', 'count'], ascending=[True, False])\n",
    "    return df\n",
    "    return df"
   ]
  },
  {
   "cell_type": "code",
   "execution_count": null,
   "metadata": {},
   "outputs": [],
   "source": [
    "order_counts = cat_summary(inference_csvs)"
   ]
  },
  {
   "cell_type": "code",
   "execution_count": null,
   "metadata": {},
   "outputs": [],
   "source": [
    "order_counts.head()"
   ]
  },
  {
   "cell_type": "code",
   "execution_count": null,
   "metadata": {},
   "outputs": [],
   "source": [
    "plt.figure(figsize=(7, 5))\n",
    "sns.barplot(data=order_counts, hue='deployment', y='count', x='order_name')\n",
    "plt.title('Counts by Deployment and Order')\n",
    "plt.xticks(rotation=45, ha='right')\n",
    "plt.legend(title='Order Name', bbox_to_anchor=(1.05, 1), loc='upper left')\n",
    "plt.tight_layout()\n",
    "plt.show()"
   ]
  },
  {
   "cell_type": "code",
   "execution_count": null,
   "metadata": {},
   "outputs": [],
   "source": [
    "species_counts = cat_summary(inference_csvs, category='top_1_species')\n",
    "\n",
    "# subset to only the top 10 species\n",
    "top_species = species_counts[['top_1_species', 'count']].groupby('top_1_species').sum().reset_index()\n",
    "top_species = top_species.sort_values(by='count', ascending=False)\n",
    "top_species = top_species.head(10)"
   ]
  },
  {
   "cell_type": "code",
   "execution_count": null,
   "metadata": {},
   "outputs": [],
   "source": [
    "plt.figure(figsize=(7, 5))\n",
    "sns.barplot(data=top_species, y='count', x='top_1_species')\n",
    "plt.title('Top Species Counts')\n",
    "plt.xticks(rotation=45, ha='right')\n",
    "plt.tight_layout()\n",
    "plt.show()"
   ]
  },
  {
   "cell_type": "code",
   "execution_count": null,
   "metadata": {},
   "outputs": [],
   "source": [
    "plt.figure(figsize=(7, 5))\n",
    "sns.barplot(data=species_counts.loc[species_counts['top_1_species'].isin(top_species['top_1_species']), ], hue='deployment', y='count', x='top_1_species')\n",
    "plt.title('Top Species Counts by Deployment')\n",
    "plt.xticks(rotation=45, ha='right')\n",
    "plt.legend(title='Most popular species', bbox_to_anchor=(1.05, 1), loc='upper left')\n",
    "plt.tight_layout()\n",
    "plt.show()"
   ]
  },
  {
   "cell_type": "code",
   "execution_count": null,
   "metadata": {},
   "outputs": [],
   "source": [
    "df = moth_only_df(inference_csvs)"
   ]
  },
  {
   "cell_type": "code",
   "execution_count": null,
   "metadata": {},
   "outputs": [],
   "source": [
    "df['top_1_confidence'].plot(kind='hist', bins=50, figsize=(6, 3))\n",
    "df['top_2_confidence'].plot(kind='hist', bins=50, color='orange', alpha=0.5)\n",
    "df['top_3_confidence'].plot(kind='hist', bins=50, color='yellow', alpha=0.5)\n",
    "df['top_4_confidence'].plot(kind='hist', bins=50, color='green', alpha=0.5)\n",
    "df['top_5_confidence'].plot(kind='hist', bins=50, color='purple', alpha=0.5)\n",
    "\n",
    "plt.legend(['Top 1 Confidence', 'Top 2 Confidence', 'Top 3 Confidence', 'Top 4 Confidence', 'Top 5 Confidence'])\n",
    "plt.title('Confidence Distribution of Top 5 Predictions')\n",
    "plt.xlabel('Confidence')"
   ]
  },
  {
   "cell_type": "code",
   "execution_count": null,
   "metadata": {},
   "outputs": [],
   "source": [
    "df['image_path'].value_counts().plot(kind='hist', bins=100, figsize=(5, 3))\n",
    "plt.title('Moth crops per image')\n",
    "plt.xlabel('Number of moth crops per image (n > 0)')\n",
    "plt.yscale('log')\n",
    "plt.show()"
   ]
  },
  {
   "cell_type": "code",
   "execution_count": null,
   "metadata": {},
   "outputs": [],
   "source": [
    "dep_counts = df['dep'].value_counts()\n",
    "dep_counts = dep_counts.reset_index()\n",
    "dep_counts.columns = ['deployment', 'count']\n",
    "\n",
    "plt.figure(figsize=(7, 5))\n",
    "sns.barplot(data=dep_counts, hue='count', y='count', x='deployment')\n",
    "plt.title('Moth crops per deployment')\n",
    "plt.xticks(rotation=45, ha='right')\n",
    "plt.tight_layout()\n",
    "plt.yscale('log')\n",
    "plt.show()"
   ]
  },
  {
   "cell_type": "code",
   "execution_count": null,
   "metadata": {},
   "outputs": [],
   "source": [
    "df['crop_ratio_of_field'] = df['crop_area']#/(image_width*image_height)\n"
   ]
  },
  {
   "cell_type": "code",
   "execution_count": null,
   "metadata": {},
   "outputs": [],
   "source": [
    "sns.regplot(x=df['order_confidence'], y=df['crop_ratio_of_field'], logx=True, line_kws=dict(color=\"r\"))\n",
    "plt.yscale('log')\n",
    "plt.show()"
   ]
  },
  {
   "cell_type": "code",
   "execution_count": null,
   "metadata": {},
   "outputs": [],
   "source": [
    "dep_df = pd.DataFrame()\n",
    "for c in inference_csvs:\n",
    "    input_df = pd.read_csv(c, low_memory=False)\n",
    "    input_df = input_df.loc[input_df['crop_status'] != 'NO DETECTIONS FOR IMAGE', ]\n",
    "    input_df = input_df.drop_duplicates(subset=[ 'x_min', 'x_max', 'y_min', 'y_max'])\n",
    "\n",
    "    input_df['dep'] = os.path.basename(c).split('.')[0].split('_')[0]\n",
    "    input_df['crop_area'] = (input_df['x_max'] - input_df['x_min']) * (input_df['y_max'] - input_df['y_min'])\n",
    "\n",
    "    # summarise the order_name by deployment\n",
    "    summary = input_df[['dep']].value_counts()\n",
    "    summary = summary.reset_index()\n",
    "    # summary.columns = ['deployment' 'count']\n",
    "    summary['file'] = os.path.basename(c)\n",
    "\n",
    "    dep_df = pd.concat([dep_df, summary], ignore_index=True)\n",
    "    del input_df\n",
    "\n",
    "dep_df = dep_df[['dep', 'count']].groupby(['dep']).sum().reset_index()\n",
    "\n",
    "dep_df = dep_df.sort_values(by=['dep', 'count'], ascending=[True, False])\n"
   ]
  },
  {
   "cell_type": "code",
   "execution_count": null,
   "metadata": {},
   "outputs": [],
   "source": [
    "dep_df\n",
    "\n",
    "plt.figure(figsize=(7, 5))\n",
    "sns.barplot(data=dep_df, hue='count', y='count', x='dep')\n",
    "plt.title('All crops per deployment')\n",
    "plt.xticks(rotation=45, ha='right')\n",
    "plt.tight_layout()\n",
    "plt.yscale('log')\n",
    "plt.legend().set_visible(False)\n",
    "plt.ylabel('Number of crops')\n",
    "plt.xlabel('Deployment')\n",
    "plt.show()"
   ]
  },
  {
   "cell_type": "markdown",
   "metadata": {},
   "source": [
    "## Most Confident cases for each order"
   ]
  },
  {
   "cell_type": "code",
   "execution_count": null,
   "metadata": {},
   "outputs": [],
   "source": [
    "order_df = pd.DataFrame()\n",
    "for c in inference_csvs:\n",
    "    input_df = pd.read_csv(c, low_memory=False)\n",
    "    input_df = input_df.loc[input_df['crop_status'] != 'NO DETECTIONS FOR IMAGE', ]\n",
    "    input_df = input_df.drop_duplicates(subset=[ 'x_min', 'x_max', 'y_min', 'y_max'])\n",
    "    input_df = input_df.sort_values(by='order_confidence', ascending=False)\n",
    "\n",
    "    input_df['dep'] = os.path.basename(c).split('.')[0].split('_')[0]\n",
    "    input_df['crop_area'] = (input_df['x_max'] - input_df['x_min']) * (input_df['y_max'] - input_df['y_min'])\n",
    "\n",
    "    # set new keys column as 'dep' and 'image_path' combined\n",
    "    input_df['keys'] = input_df['image_path'].apply(lambda x: f\"{input_df['dep'].iloc[0]}/snapshot_images/{os.path.basename(x)}\")\n",
    "    order_df = pd.concat([order_df, input_df])\n",
    "    del input_df\n",
    "\n",
    "order_df = order_df.sort_values(by=['dep', 'order_confidence'], ascending=[True, False])\n",
    "order_df = order_df.groupby(['order_name', 'dep']).head(1).reset_index(drop=True)"
   ]
  },
  {
   "cell_type": "code",
   "execution_count": null,
   "metadata": {},
   "outputs": [],
   "source": [
    "# order by top_1_confidence\n",
    "df_order = order_df.sort_values(by='order_confidence', ascending=False)\n",
    "df_order = df_order.loc[df_order['order_confidence'] > 0.8, ]\n",
    "df_order.reset_index(drop=True, inplace=True)\n",
    "\n",
    "print(df_order.shape)"
   ]
  },
  {
   "cell_type": "code",
   "execution_count": null,
   "metadata": {},
   "outputs": [],
   "source": [
    "# download the relevant images\n",
    "os.makedirs(os.path.join(download_dir, 'order'), exist_ok=True)\n",
    "\n",
    "for i, row in df_order.iterrows():\n",
    "    download_images(client, transfer_config, row['keys'], os.path.join(download_dir, 'order'), region)"
   ]
  },
  {
   "cell_type": "code",
   "execution_count": null,
   "metadata": {},
   "outputs": [],
   "source": [
    "df_order.shape"
   ]
  },
  {
   "cell_type": "code",
   "execution_count": null,
   "metadata": {},
   "outputs": [],
   "source": [
    "# for each unique image, annotate the bounding box\n",
    "fig, ax = plt.subplots(4, 6, figsize=(15, 7.5))\n",
    "ax = ax.ravel()\n",
    "\n",
    "df_order = df_order.sort_values(by='order_name', ascending=False)\n",
    "\n",
    "# for eah row in df_confident, get the image_path\n",
    "for i, row in df_order.iterrows():\n",
    "    annotate_image(\n",
    "        row['image_path'],\n",
    "        os.path.join(download_dir, 'order'),\n",
    "        df_order,\n",
    "        ax[i],\n",
    "        crop_to_highlight=row['crop_status'],\n",
    "        buffer=20,\n",
    "        scaling_required=False,\n",
    "        subtitle=f\"{row['order_name']}, {row['order_confidence']:.2f}\"\n",
    "    )\n",
    "\n",
    "for i in range(len(df_order), len(ax)):\n",
    "    ax[i].axis('off')\n",
    "\n",
    "\n",
    "plt.tight_layout()\n",
    "plt.show()"
   ]
  },
  {
   "cell_type": "markdown",
   "metadata": {},
   "source": [
    "# Most Confident Species Predictions"
   ]
  },
  {
   "cell_type": "code",
   "execution_count": null,
   "metadata": {},
   "outputs": [],
   "source": [
    "# order by top_1_confidence\n",
    "df_confident = df.sort_values(by='top_1_confidence', ascending=False)\n",
    "df_confident.reset_index(drop=True, inplace=True)\n",
    "\n",
    "# remove duplicated rows by image path, and bounding box\n",
    "df_confident = df_confident.drop_duplicates(subset=['image_path', 'x_min', 'y_min', 'x_max', 'y_max'])\n",
    "df_confident = df_confident.drop_duplicates(subset=['top_1_species'])\n",
    "\n",
    "\n",
    "top_n=20\n",
    "\n",
    "df_confident = df_confident.head(top_n)"
   ]
  },
  {
   "cell_type": "code",
   "execution_count": null,
   "metadata": {},
   "outputs": [],
   "source": [
    "# sort by image_path\n",
    "df_confident.sort_values(by='image_path', inplace=True)\n",
    "df_confident.reset_index(drop=True, inplace=True)\n",
    "df_confident"
   ]
  },
  {
   "cell_type": "code",
   "execution_count": null,
   "metadata": {},
   "outputs": [],
   "source": [
    "# download the relevant images\n",
    "os.makedirs(os.path.join(download_dir, 'confident'), exist_ok=True)\n",
    "\n",
    "for i, row in df_confident.head(top_n).iterrows():\n",
    "    download_images(client, transfer_config, row['keys'], os.path.join(download_dir, 'confident'), region)"
   ]
  },
  {
   "cell_type": "code",
   "execution_count": null,
   "metadata": {},
   "outputs": [],
   "source": [
    "df_confident.shape"
   ]
  },
  {
   "cell_type": "code",
   "execution_count": null,
   "metadata": {},
   "outputs": [],
   "source": [
    "# for each unique image, annotate the bounding box\n",
    "fig, ax = plt.subplots(4, 5, figsize=(13.33, 7.5))\n",
    "ax = ax.ravel()\n",
    "\n",
    "df_confident = df_confident.sort_values(by='top_1_confidence', ascending=False)\n",
    "\n",
    "# for eah row in df_confident, get the image_path\n",
    "for i, row in df_confident.iterrows():\n",
    "    annotate_image(\n",
    "        row['image_path'],\n",
    "        os.path.join(download_dir, 'confident'),\n",
    "        df_confident,\n",
    "        ax[i],\n",
    "        crop_to_highlight=row['crop_status'],\n",
    "        buffer=20,\n",
    "        scaling_required=False,\n",
    "        subtitle=f\"{row['top_1_species']}, ({row['top_1_confidence']:.2f})\"\n",
    "    )\n",
    "\n",
    "for i in range(len(df_confident), len(ax)):\n",
    "    ax[i].axis('off')\n",
    "\n",
    "plt.tight_layout()\n",
    "plt.show()"
   ]
  },
  {
   "cell_type": "markdown",
   "metadata": {},
   "source": [
    "## Largest Moths"
   ]
  },
  {
   "cell_type": "code",
   "execution_count": null,
   "metadata": {},
   "outputs": [],
   "source": [
    "# order by moth size\n",
    "df_area = df.sort_values(by='crop_area', ascending=False)\n",
    "df_area.reset_index(drop=True, inplace=True)\n",
    "df_area = df_area.drop_duplicates(subset=['top_1_species'])\n",
    "\n",
    "top_n=20\n",
    "\n",
    "df_area = df_area.head(top_n)\n",
    "\n",
    "df_area.reset_index(drop=True, inplace=True)"
   ]
  },
  {
   "cell_type": "code",
   "execution_count": null,
   "metadata": {},
   "outputs": [],
   "source": [
    "# download the relevant images\n",
    "os.makedirs(os.path.join(download_dir, 'largest'), exist_ok=True)\n",
    "\n",
    "for i, row in df_area.iterrows():\n",
    "    download_images(client, transfer_config, row['keys'], os.path.join(download_dir, 'largest'), region)"
   ]
  },
  {
   "cell_type": "code",
   "execution_count": null,
   "metadata": {},
   "outputs": [],
   "source": [
    "df_area"
   ]
  },
  {
   "cell_type": "code",
   "execution_count": null,
   "metadata": {},
   "outputs": [],
   "source": [
    "# for each unique image, annotate the bounding box\n",
    "fig, ax = plt.subplots(4, 5, figsize=(13.33, 7.5))\n",
    "ax = ax.ravel()\n",
    "\n",
    "df_area = df_area.sort_values(by='crop_area', ascending=False)\n",
    "\n",
    "# for eah row in df_confident, get the image_path\n",
    "for i, row in df_area.iterrows():\n",
    "    annotate_image(\n",
    "        row['image_path'],\n",
    "        os.path.join(download_dir, 'largest'),\n",
    "        df_area,\n",
    "        ax[i],\n",
    "        crop_to_highlight=row['crop_status'],\n",
    "        buffer=20,\n",
    "        scaling_required=False,\n",
    "        subtitle=f\"{row['top_1_species']}, ({row['top_1_confidence']:.2f})\"\n",
    "    )\n",
    "\n",
    "plt.tight_layout()\n",
    "plt.show()"
   ]
  },
  {
   "cell_type": "markdown",
   "metadata": {},
   "source": [
    "# Blurriest Crops"
   ]
  },
  {
   "cell_type": "code",
   "execution_count": null,
   "metadata": {},
   "outputs": [],
   "source": [
    "# order by moth size\n",
    "df_blur = df.sort_values(by='crop_bluriness', ascending=False)\n",
    "df_blur.reset_index(drop=True, inplace=True)\n",
    "\n",
    "df_blur = df_blur.drop_duplicates(subset=['top_1_species'])\n",
    "top_n=20\n",
    "\n",
    "df_blur = df_blur.head(top_n)\n",
    "\n",
    "df_blur.reset_index(drop=True, inplace=True)"
   ]
  },
  {
   "cell_type": "code",
   "execution_count": null,
   "metadata": {},
   "outputs": [],
   "source": [
    "# download the relevant images\n",
    "os.makedirs(os.path.join(download_dir, 'blur'), exist_ok=True)\n",
    "\n",
    "for i, row in df_blur.iterrows():\n",
    "    download_images(client, transfer_config, row['keys'], os.path.join(download_dir, 'blur'), region)"
   ]
  },
  {
   "cell_type": "code",
   "execution_count": null,
   "metadata": {},
   "outputs": [],
   "source": [
    "# for each unique image, annotate the bounding box\n",
    "fig, ax = plt.subplots(4, 5, figsize=(13.33, 7.5))\n",
    "ax = ax.ravel()\n",
    "\n",
    "df_blur = df_blur.sort_values(by='crop_bluriness', ascending=False)\n",
    "\n",
    "# for eah row in df_blur, get the image_path\n",
    "for i, row in df_blur.iterrows():\n",
    "    annotate_image(\n",
    "        row['image_path'],\n",
    "        os.path.join(download_dir, 'blur'),\n",
    "        df_blur,\n",
    "        ax[i],\n",
    "        crop_to_highlight=row['crop_status'],\n",
    "        buffer=20,\n",
    "        scaling_required=False,\n",
    "        subtitle=f\"Crop blur: {float(row['crop_bluriness']):.3f}\\nImage blur: {float(row['image_bluriness']):.3f}\"\n",
    "\n",
    "    )\n",
    "\n",
    "plt.tight_layout()\n",
    "plt.show()"
   ]
  },
  {
   "cell_type": "markdown",
   "metadata": {},
   "source": [
    "## Bluriest Images"
   ]
  },
  {
   "cell_type": "code",
   "execution_count": null,
   "metadata": {},
   "outputs": [],
   "source": [
    "df.head()"
   ]
  },
  {
   "cell_type": "code",
   "execution_count": null,
   "metadata": {},
   "outputs": [],
   "source": [
    "# order by moth size\n",
    "df = df.astype({'image_bluriness': 'float'})\n",
    "df_blur = df.sort_values(by='image_bluriness', ascending=False)\n",
    "\n",
    "df_blur.reset_index(drop=True, inplace=True)\n",
    "\n",
    "df_blur = df_blur.drop_duplicates(subset=['top_1_species'])\n",
    "df_blur = df_blur.drop_duplicates(subset=['image_bluriness'])\n",
    "top_n=20\n",
    "\n",
    "df_blur = df_blur.head(top_n)\n",
    "\n",
    "df_blur.reset_index(drop=True, inplace=True)"
   ]
  },
  {
   "cell_type": "code",
   "execution_count": null,
   "metadata": {},
   "outputs": [],
   "source": [
    "# download the relevant images\n",
    "os.makedirs(os.path.join(download_dir, 'blur'), exist_ok=True)\n",
    "\n",
    "for i, row in df_blur.iterrows():\n",
    "    download_images(client, transfer_config, row['keys'], os.path.join(download_dir, 'blur'), region)"
   ]
  },
  {
   "cell_type": "code",
   "execution_count": null,
   "metadata": {},
   "outputs": [],
   "source": [
    "# for each unique image, annotate the bounding box\n",
    "fig, ax = plt.subplots(4, 5, figsize=(13.33, 7.5))\n",
    "ax = ax.ravel()\n",
    "\n",
    "df_blur = df_blur.sort_values(by='crop_bluriness', ascending=False)\n",
    "\n",
    "# for eah row in df_blur, get the image_path\n",
    "for i, row in df_blur.iterrows():\n",
    "    annotate_image(\n",
    "        row['image_path'],\n",
    "        os.path.join(download_dir, 'blur'),\n",
    "        df_blur,\n",
    "        ax[i],\n",
    "        crop_to_highlight=row['crop_status'],\n",
    "        buffer=20,\n",
    "        scaling_required=False,\n",
    "        subtitle=f\"Crop blur: {float(row['crop_bluriness']):.3f}\\nImage blur: {float(row['image_bluriness']):.3f}\"\n",
    "\n",
    "    )\n",
    "\n",
    "plt.tight_layout()\n",
    "plt.show()"
   ]
  },
  {
   "cell_type": "code",
   "execution_count": null,
   "metadata": {},
   "outputs": [],
   "source": []
  }
 ],
 "metadata": {
  "kernelspec": {
   "display_name": "Python 3",
   "language": "python",
   "name": "python3"
  },
  "language_info": {
   "codemirror_mode": {
    "name": "ipython",
    "version": 3
   },
   "file_extension": ".py",
   "mimetype": "text/x-python",
   "name": "python",
   "nbconvert_exporter": "python",
   "pygments_lexer": "ipython3",
   "version": "3.11.9"
  }
 },
 "nbformat": 4,
 "nbformat_minor": 2
}
