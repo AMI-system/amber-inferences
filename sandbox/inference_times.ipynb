{
 "cells": [
  {
   "cell_type": "markdown",
   "metadata": {},
   "source": [
    "# Inference Time\n",
    "\n",
    "Plot the time taken to make predictions for each deployment"
   ]
  },
  {
   "cell_type": "code",
   "execution_count": null,
   "metadata": {},
   "outputs": [],
   "source": [
    "import os\n",
    "import pandas as pd\n",
    "import matplotlib.pyplot as plt\n",
    "import seaborn as sns"
   ]
  },
  {
   "cell_type": "code",
   "execution_count": null,
   "metadata": {},
   "outputs": [],
   "source": [
    "def get_deployment_times(inference_dir):\n",
    "    deps2 = os.listdir(inference_dir)\n",
    "    deps2 = [dep for dep in deps2 if dep.startswith('dep')]\n",
    "\n",
    "    # subset to dirs only, not files\n",
    "    deps2 = [dep for dep in deps2 if os.path.isdir(f'{inference_dir}/{dep}')]\n",
    "\n",
    "    print(f'Deployments: {\", \".join(deps2)}')\n",
    "    diffs = pd.DataFrame({'dep': [], 'time_diff': [], 'start_date': [], 'end_date':[]})\n",
    "\n",
    "    for dep in deps2:\n",
    "        files = os.listdir(f'{inference_dir}/{dep}')\n",
    "        files = [file for file in files if file.endswith('.csv')]\n",
    "\n",
    "        # get the datetime the file was created\n",
    "        dates = [os.path.getctime(f'{inference_dir}/{dep}/{file}') for file in files]\n",
    "        dates = [pd.to_datetime(date, unit='s') for date in dates]\n",
    "        print(len(dates))\n",
    "\n",
    "        if len(dates) == 0:\n",
    "            continue\n",
    "        time_diff = max(dates) - min(dates)\n",
    "        n_files = len(dates)\n",
    "        temp = pd.DataFrame({\n",
    "            'dep': [dep], 'time_diff': [time_diff], 'start_date': [min(dates)],\n",
    "            'end_date': [max(dates)], 'n_files': [n_files]\n",
    "        })\n",
    "\n",
    "        diffs = pd.concat([diffs, temp], ignore_index=True)\n",
    "    return diffs\n",
    "\n",
    "def plot_inference_times(inference_df, remove_outliers=True):\n",
    "    inference_df['time_taken'] = inference_df['time_diff'].apply(lambda x: x.total_seconds()/3600)\n",
    "\n",
    "    if remove_outliers:\n",
    "        inference_df = inference_df[inference_df['time_taken'] < 3*24]\n",
    "\n",
    "        # reset the index\n",
    "        inference_df = inference_df.reset_index(drop=True)\n",
    "\n",
    "    plt.figure(figsize=(10, 5))\n",
    "    sns.scatterplot(x='n_files', y='time_taken', data=inference_df)\n",
    "\n",
    "    for i in range(inference_df.shape[0]):\n",
    "        plt.text(inference_df['n_files'][i], inference_df['time_taken'][i], inference_df['dep'][i])\n",
    "\n",
    "    plt.xticks(rotation=45)\n",
    "    plt.xlabel('Time taken (hours)')\n",
    "    plt.ylabel('100 of files')\n",
    "    plt.title('Time difference between first and last file in each deployment')\n",
    "    plt.show()\n"
   ]
  },
  {
   "cell_type": "code",
   "execution_count": null,
   "metadata": {},
   "outputs": [],
   "source": [
    "inference_times = get_deployment_times('/home/users/katriona/amber-inferences/data/singapore')"
   ]
  },
  {
   "cell_type": "code",
   "execution_count": null,
   "metadata": {},
   "outputs": [],
   "source": [
    "inference_times"
   ]
  },
  {
   "cell_type": "code",
   "execution_count": null,
   "metadata": {},
   "outputs": [],
   "source": [
    "plot_inference_times(inference_times)"
   ]
  },
  {
   "cell_type": "code",
   "execution_count": null,
   "metadata": {},
   "outputs": [],
   "source": []
  }
 ],
 "metadata": {
  "kernelspec": {
   "display_name": "Python 3",
   "language": "python",
   "name": "python3"
  },
  "language_info": {
   "codemirror_mode": {
    "name": "ipython",
    "version": 3
   },
   "file_extension": ".py",
   "mimetype": "text/x-python",
   "name": "python",
   "nbconvert_exporter": "python",
   "pygments_lexer": "ipython3",
   "version": "3.11.9"
  }
 },
 "nbformat": 4,
 "nbformat_minor": 2
}
