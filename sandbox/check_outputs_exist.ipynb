{
 "cells": [
  {
   "cell_type": "markdown",
   "id": "cad48d35",
   "metadata": {},
   "source": [
    "# Notebook to check all outputs are as expected"
   ]
  },
  {
   "cell_type": "code",
   "execution_count": null,
   "id": "f469d534",
   "metadata": {},
   "outputs": [],
   "source": [
    "import json\n",
    "import os\n",
    "import pandas as pd\n",
    "import tqdm"
   ]
  },
  {
   "cell_type": "code",
   "execution_count": null,
   "id": "08ea301d",
   "metadata": {},
   "outputs": [],
   "source": [
    "region = \"thailand\""
   ]
  },
  {
   "cell_type": "code",
   "execution_count": null,
   "id": "9ed5b0a8",
   "metadata": {},
   "outputs": [],
   "source": [
    "keys_files = os.listdir(f\"/home/users/katriona/amber-inferences/keys/{region}_final/\")\n",
    "keys_files = [os.path.join(f\"/home/users/katriona/amber-inferences/keys/{region}_final/\", x) for x in keys_files]\n",
    "print(keys_files)"
   ]
  },
  {
   "cell_type": "code",
   "execution_count": null,
   "id": "598d26e3",
   "metadata": {},
   "outputs": [],
   "source": [
    "def check_file(keys_file, region):\n",
    "    # Load the keys file\n",
    "    with open(keys_file, \"r\") as f:\n",
    "        keys = json.load(f)\n",
    "\n",
    "    dep = os.path.basename(keys_file).split(\".\")[0]\n",
    "    print(f\"🎥 Checking {dep}...\")\n",
    "\n",
    "    # Where to look for CSV files\n",
    "    csv_dir = f\"/gws/nopw/j04/ceh_generic/kgoldmann/{region}_inferences_tracking/{dep}\"  # current directory\n",
    "\n",
    "    all_missing_keys = {}\n",
    "\n",
    "    for date, image_paths in tqdm.tqdm(keys.items()):\n",
    "        jpgs = [os.path.basename(p) for p in image_paths]\n",
    "\n",
    "        csv_path = os.path.join(csv_dir, f\"{dep}_{date}.csv\")\n",
    "        if not os.path.exists(csv_path):\n",
    "            print(f\" ⚠️ CSV for {date} not found: {csv_path}\")\n",
    "            continue\n",
    "\n",
    "        # Load the CSV\n",
    "        try:\n",
    "            df = pd.read_csv(csv_path, low_memory=False, encoding='utf-8')\n",
    "\n",
    "            # Flatten all strings in the DataFrame to search for filenames\n",
    "            analysed_images = list(set(df[\"image_path\"]))\n",
    "            analysed_images = [os.path.basename(x) for x in analysed_images if isinstance(x, str)]\n",
    "            missing = [os.path.basename(jpg) for jpg in jpgs if os.path.basename(jpg) not in analysed_images]\n",
    "\n",
    "            if missing:\n",
    "                print(f\"- ❌ {len(missing)}/{len(jpgs)} missing jpgs for {os.path.basename(csv_path)}\")\n",
    "\n",
    "                # create a subset of the format keys_file made up of the missing jpgs\n",
    "                missing_keys = {date: [os.path.join(dep, \"snapshot_images\", x) for x in missing]}\n",
    "                all_missing_keys.update(missing_keys)\n",
    "\n",
    "        except Exception as e:\n",
    "            print(f\" ⚠️ Error processing {csv_path}: {e}\")\n",
    "\n",
    "    if all_missing_keys:\n",
    "        # write all_missing_keys to a file\n",
    "        missing_keys_file = f\"/home/users/katriona/amber-inferences/keys/{region}_final_missing_keys/{dep}.json\"\n",
    "        print(f\"❗️ Writing missing keys for {dep} to {missing_keys_file}\")\n",
    "        os.makedirs(os.path.dirname(missing_keys_file), exist_ok=True)\n",
    "\n",
    "        with open(missing_keys_file, \"w\") as f:\n",
    "            json.dump(all_missing_keys, f, indent=4)\n"
   ]
  },
  {
   "cell_type": "code",
   "execution_count": null,
   "id": "f7c59950",
   "metadata": {},
   "outputs": [],
   "source": [
    "for keys_file in keys_files:\n",
    "    check_file(keys_file, region)"
   ]
  },
  {
   "cell_type": "code",
   "execution_count": null,
   "id": "8f401b29",
   "metadata": {},
   "outputs": [],
   "source": []
  }
 ],
 "metadata": {
  "kernelspec": {
   "display_name": "Python 3",
   "language": "python",
   "name": "python3"
  },
  "language_info": {
   "codemirror_mode": {
    "name": "ipython",
    "version": 3
   },
   "file_extension": ".py",
   "mimetype": "text/x-python",
   "name": "python",
   "nbconvert_exporter": "python",
   "pygments_lexer": "ipython3",
   "version": "3.11.9"
  }
 },
 "nbformat": 4,
 "nbformat_minor": 5
}
