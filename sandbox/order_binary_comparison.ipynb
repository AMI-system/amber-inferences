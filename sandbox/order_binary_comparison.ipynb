{
 "cells": [
  {
   "cell_type": "markdown",
   "id": "6dbbaafe",
   "metadata": {},
   "source": [
    "# Binary vs Order Classifiers\n",
    "\n",
    "Notebook to compare the outputs of the binary and order classifiers."
   ]
  },
  {
   "cell_type": "code",
   "execution_count": 1,
   "id": "02e0fabf-2cbf-4911-9144-1ee38399faeb",
   "metadata": {},
   "outputs": [],
   "source": [
    "import os\n",
    "import pandas as pd\n",
    "import matplotlib.pyplot as plt"
   ]
  },
  {
   "cell_type": "code",
   "execution_count": null,
   "id": "2b721e7a-fb0e-4359-ada6-37853f186e70",
   "metadata": {},
   "outputs": [],
   "source": [
    "# Load in all the data\n",
    "# For every file in the data directory, load into a list of dataframes\n",
    "data = {}\n",
    "\n",
    "data_dir = '/home/users/katriona/amber-inferences/examples/example_outputs/'\n",
    "\n",
    "for file in os.listdir(data_dir):\n",
    "    if file.endswith('.csv'):\n",
    "        data[file] = pd.read_csv(data_dir + file)"
   ]
  },
  {
   "cell_type": "code",
   "execution_count": null,
   "id": "9728ab88",
   "metadata": {},
   "outputs": [],
   "source": [
    "# print the shape of each dataframe\n",
    "for key in data.keys():\n",
    "    print(key, data[key].shape)"
   ]
  },
  {
   "cell_type": "code",
   "execution_count": 20,
   "id": "e73079ab-d68c-4359-8510-4c251d7c9a8e",
   "metadata": {},
   "outputs": [],
   "source": [
    "# Add a column for confidence of moth, where = binary_confidence if binary_class == moth and 1-binary_confidence if binary_class == not_moth\n",
    "\n",
    "def plot_confidence_by_class(df, order_name='Lepidoptera Macros'):\n",
    "    df_lep = df.loc[df['order_name'] == order_name, ]\n",
    "    df_lep['moth_conf'] = df_lep['class_confidence'].astype(float)\n",
    "    df_lep['moth_conf'] = df_lep['moth_conf'].where(df_lep['class_name'] == 'moth', 1-df_lep['moth_conf'])\n",
    "\n",
    "    # normalise the confidence values\n",
    "    df_lep['moth_conf'] = df_lep['moth_conf'] - df_lep['moth_conf'].min()\n",
    "\n",
    "    plt.scatter(df_lep['order_confidence'], df_lep['moth_conf'])\n",
    "    plt.xlabel('Order Confidence')\n",
    "    plt.ylabel('Moth Confidence')\n",
    "    plt.title('Moth Confidence vs Order Confidence')\n",
    "    plt.show()\n"
   ]
  },
  {
   "cell_type": "code",
   "execution_count": 37,
   "id": "2cf42f2b",
   "metadata": {},
   "outputs": [],
   "source": [
    "# get accuracy metrics\n",
    "def get_accuracy_metrics(df):\n",
    "    df['order_moth'] = 'nonmoth'\n",
    "    df['order_moth'].loc[df['order_name'].str.contains('Lepi'), ] = 'moth'\n",
    "\n",
    "    # create a confusion matrix\n",
    "    confusion_matrix = pd.crosstab(df['class_name'], df['order_moth'])\n",
    "\n",
    "    fpr = confusion_matrix.loc['moth', 'nonmoth'] / confusion_matrix.loc['moth', ].sum()\n",
    "    fnr = confusion_matrix.loc['nonmoth', 'moth'] / confusion_matrix.loc['nonmoth', ].sum()\n",
    "    tpr = 1 - fpr\n",
    "    tnr = 1 - fnr\n",
    "\n",
    "    accuracy = (confusion_matrix.loc['moth', 'moth'] + confusion_matrix.loc['nonmoth', 'nonmoth']) / confusion_matrix.sum().sum()\n",
    "\n",
    "    return [accuracy, tpr, tnr, fpr, fnr, confusion_matrix]"
   ]
  },
  {
   "cell_type": "code",
   "execution_count": 38,
   "id": "23ac3e12-1383-4631-8710-1f4ff022aef8",
   "metadata": {},
   "outputs": [],
   "source": [
    "def get_breakdown(df):\n",
    "    # get the breakdown of the class names and order names\n",
    "    breakdown = df[['class_name', 'order_name']].value_counts()\n",
    "\n",
    "    # convert to df\n",
    "    breakdown = breakdown.reset_index()\n",
    "    breakdown.columns = ['class_name', 'order_name', 'count']\n",
    "\n",
    "\n",
    "    # add the percentage of total\n",
    "    breakdown['percentage'] = (breakdown['count'] / breakdown['count'].sum() * 100).round(2)\n",
    "\n",
    "    breakdown['aligned'] = 'not aligned'\n",
    "\n",
    "    # set aligned if class_name == moth and order_name contains Lepidoptera\n",
    "    breakdown.loc[(breakdown['class_name'] == 'moth') & (breakdown['order_name'].str.contains('Lepidoptera')), 'aligned'] = 'aligned'\n",
    "    breakdown.loc[(breakdown['class_name'] == 'nonmoth') & ~ (breakdown['order_name'].str.contains('Lepidoptera')), 'aligned'] = 'aligned'\n",
    "\n",
    "    aligned = breakdown.loc[breakdown['aligned'] == 'aligned', 'count'].sum()/breakdown['count'].sum() * 100\n",
    "    print(f'{aligned.round(2)}% of predictions are aligned')\n",
    "\n",
    "    return breakdown, aligned"
   ]
  },
  {
   "cell_type": "code",
   "execution_count": 44,
   "id": "d901d4ba",
   "metadata": {},
   "outputs": [],
   "source": [
    "def plot_breakdown(breakdown, title, scale=False):\n",
    "    breakdown = breakdown.loc[~ breakdown['order_name'].str.contains('data'), ]\n",
    "    breakdown = breakdown.loc[~ breakdown['order_name'].str.contains('gbr'), ]\n",
    "\n",
    "    # Create pivot table for stacked bar chart\n",
    "    pivot_table = breakdown.pivot(index='class_name', columns='order_name', values='count')\n",
    "\n",
    "    if scale:\n",
    "        pivot_table = pivot_table.div(pivot_table.sum(axis=1), axis=0)\n",
    "\n",
    "    # Plot stacked bar chart\n",
    "    ax = pivot_table.plot(kind='bar', stacked=True, )\n",
    "\n",
    "    # Add hatching manually\n",
    "    hatches = {}\n",
    "\n",
    "    all_non_moth_keys = breakdown['order_name'].unique()\n",
    "    # if there are any non-moth keys, add them to the hatches dict as None\n",
    "    for key in all_non_moth_keys:\n",
    "        # if Lepidoptera is substring of key\n",
    "        if 'Lepidoptera' in key:\n",
    "            hatches[key] = '*'\n",
    "        else:\n",
    "            hatches[key] = None\n",
    "\n",
    "    for bar_group, bars in zip(ax.containers, pivot_table.columns):\n",
    "        for bar in bar_group:\n",
    "            if hatches[bars]:\n",
    "                bar.set_hatch(hatches[bars])\n",
    "\n",
    "    plt.ylabel('Count')\n",
    "    plt.title(title)\n",
    "    plt.show()"
   ]
  },
  {
   "cell_type": "code",
   "execution_count": null,
   "id": "e7567015",
   "metadata": {},
   "outputs": [],
   "source": [
    "align_df = pd.DataFrame({'file': [], 'percent_aligned': [], 'accuracy': [],\n",
    "                        'tpr': [], 'tnr': [], 'fpr': [], 'fnr': []})\n",
    "\n",
    "# for each dataframe in data, get the breakdown and plot\n",
    "for key in data.keys():\n",
    "    print(f\"Dataframe: {key}\")\n",
    "    breakdown, aligned = get_breakdown(data[key])\n",
    "\n",
    "    accuracy, tpr, tnr, fpr, fnr, confusion_matrix = get_accuracy_metrics(data[key])\n",
    "\n",
    "    # append to df\n",
    "    new_df = pd.DataFrame({'file': [key], 'percent_aligned': [aligned],\n",
    "                        'accuracy': [accuracy], 'tpr': [tpr], 'tnr': [tnr], 'fpr': [fpr], 'fnr': [fnr]})\n",
    "    align_df = pd.concat([align_df, new_df], ignore_index=True)\n",
    "\n",
    "    plot_breakdown(breakdown, key.replace('.csv', '').replace('_', ' '))\n",
    "    #plot_confidence_by_class(data[key])\n",
    "    print('\\n\\n\\n')"
   ]
  },
  {
   "cell_type": "code",
   "execution_count": null,
   "id": "e7af736c",
   "metadata": {},
   "outputs": [],
   "source": [
    "align_df"
   ]
  },
  {
   "cell_type": "code",
   "execution_count": null,
   "id": "0fbf42de",
   "metadata": {},
   "outputs": [],
   "source": []
  }
 ],
 "metadata": {
  "kernelspec": {
   "display_name": "Python 3",
   "language": "python",
   "name": "python3"
  },
  "language_info": {
   "codemirror_mode": {
    "name": "ipython",
    "version": 3
   },
   "file_extension": ".py",
   "mimetype": "text/x-python",
   "name": "python",
   "nbconvert_exporter": "python",
   "pygments_lexer": "ipython3",
   "version": "3.11.9"
  }
 },
 "nbformat": 4,
 "nbformat_minor": 5
}
