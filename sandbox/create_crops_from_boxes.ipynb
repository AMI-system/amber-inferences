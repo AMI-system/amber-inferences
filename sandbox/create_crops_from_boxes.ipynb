{
 "cells": [
  {
   "cell_type": "markdown",
   "metadata": {},
   "source": [
    "# Save crops from bounding boxes\n",
    "\n",
    "This notebook saves the crops from recorded bounding boxes. "
   ]
  },
  {
   "cell_type": "code",
   "execution_count": null,
   "metadata": {},
   "outputs": [],
   "source": [
    "import pandas as pd\n",
    "import os\n",
    "from PIL import Image"
   ]
  },
  {
   "cell_type": "code",
   "execution_count": null,
   "metadata": {},
   "outputs": [],
   "source": [
    "def initialise_session(credentials_file=\"credentials.json\"):\n",
    "    \"\"\"\n",
    "    Load AWS and API credentials from a configuration file and initialise an AWS session.\n",
    "\n",
    "    Args:\n",
    "        credentials_file (str): Path to the credentials JSON file.\n",
    "\n",
    "    Returns:\n",
    "        boto3.Client: Initialised S3 client.\n",
    "    \"\"\"\n",
    "    with open(credentials_file, encoding=\"utf-8\") as config_file:\n",
    "        aws_credentials = json.load(config_file)\n",
    "    session = boto3.Session(\n",
    "        aws_access_key_id=aws_credentials[\"AWS_ACCESS_KEY_ID\"],\n",
    "        aws_secret_access_key=aws_credentials[\"AWS_SECRET_ACCESS_KEY\"],\n",
    "        region_name=aws_credentials[\"AWS_REGION\"],\n",
    "    )\n",
    "    client = session.client(\"s3\", endpoint_url=aws_credentials[\"AWS_URL_ENDPOINT\"])\n",
    "    return client\n",
    "\n",
    "import boto3\n",
    "import json\n",
    "from boto3.s3.transfer import TransferConfig\n",
    "\n",
    "client = initialise_session('./credentials.json')\n",
    "\n",
    "# Transfer configuration for optimised S3 download\n",
    "transfer_config = TransferConfig(\n",
    "    max_concurrency=20,  # Increase the number of concurrent transfers\n",
    "    multipart_threshold=8 * 1024 * 1024,  # 8MB\n",
    "    max_io_queue=1000,\n",
    "    io_chunksize=262144,  # 256KB\n",
    ")"
   ]
  },
  {
   "cell_type": "code",
   "execution_count": null,
   "metadata": {},
   "outputs": [],
   "source": [
    "def download_crop(download_path, download_dir, box, crop_name):\n",
    "    save_path = f\"{download_dir}/{os.path.basename(download_path).replace('.jpg', '')}_{crop_name}.jpg\"\n",
    "\n",
    "    # if save_path already exists, skip\n",
    "    if os.path.exists(save_path):\n",
    "        return\n",
    "\n",
    "\n",
    "    image = Image.open(download_path).convert(\"RGB\")\n",
    "\n",
    "    original_width, original_height = image.size\n",
    "    # crop the image\n",
    "    x_min = int(int(box[0]) *300 / original_width)\n",
    "    y_min = int(int(box[1]) *300 / original_height)\n",
    "    x_max = int(int(box[2]) *300 / original_width)\n",
    "    y_max = int(int(box[3]) *300 / original_height)\n",
    "\n",
    "    crop_box = [x_min, y_min, x_max, y_max]\n",
    "\n",
    "    image = image.crop((x_min, y_min, x_max, y_max))\n",
    "\n",
    "    image.save(save_path)\n"
   ]
  },
  {
   "cell_type": "code",
   "execution_count": null,
   "metadata": {},
   "outputs": [],
   "source": [
    "# for each row, download the image and save it to the folder\n",
    "def download_dep_crops(dep, bucket_name):\n",
    "    download_dir = f'./data/singapore/crops/{dep}'\n",
    "    df = pd.read_csv(f'./data/singapore/{dep}_cleaned.csv')\n",
    "    df['keys'] = df['image_path'].apply(lambda x: f\"{dep}/snapshot_images/{os.path.basename(x)}\")\n",
    "\n",
    "\n",
    "    # subset to only those ending with jpg\n",
    "    image_set = list(set(df['keys']))\n",
    "    image_set = [x for x in image_set if x.endswith('.jpg')]\n",
    "\n",
    "    print(dep, bucket_name)\n",
    "    print(f\"- Downloading for {len(image_set)} images and {df.shape[0]} crops\")\n",
    "\n",
    "    # make dir if doesnt exist\n",
    "    if not os.path.exists(download_dir):\n",
    "        os.makedirs(download_dir)\n",
    "\n",
    "    for key in image_set:\n",
    "        download_path = os.path.join(download_dir, os.path.basename(key))\n",
    "        client.download_file(bucket_name, key, download_path, Config=transfer_config)\n",
    "\n",
    "        df_subset = df[df['keys'] == key]\n",
    "\n",
    "        for i, row in df_subset.iterrows():\n",
    "            download_crop(download_path, download_dir,\n",
    "                        box=[row['x_min'], row['y_min'], row['x_max'], row['y_max']],\n",
    "                        crop_name=row['crop_status'].replace(' ', '_'))\n",
    "\n",
    "        os.remove(download_path)\n",
    "\n",
    "    # compress download_dir\n",
    "    os.system(f\"zip -r {download_dir}.zip {download_dir}\")\n",
    "    os.system(f\"rm -rf {download_dir}\")"
   ]
  },
  {
   "cell_type": "code",
   "execution_count": null,
   "metadata": {},
   "outputs": [],
   "source": [
    "# list the dirs in ./data/singapore/dep*\n",
    "deps = os.listdir('./data/singapore')\n",
    "deps = [dep for dep in deps if dep.startswith('dep')]\n",
    "\n",
    "# subset to dirs only, not files\n",
    "deps = [dep for dep in deps if os.path.isdir(f'./data/singapore/{dep}')]"
   ]
  }
 ],
 "metadata": {
  "kernelspec": {
   "display_name": "Python 3",
   "language": "python",
   "name": "python3"
  },
  "language_info": {
   "codemirror_mode": {
    "name": "ipython",
    "version": 3
   },
   "file_extension": ".py",
   "mimetype": "text/x-python",
   "name": "python",
   "nbconvert_exporter": "python",
   "pygments_lexer": "ipython3",
   "version": "3.11.9"
  }
 },
 "nbformat": 4,
 "nbformat_minor": 2
}
