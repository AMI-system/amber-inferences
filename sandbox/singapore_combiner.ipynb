{
 "cells": [
  {
   "cell_type": "code",
   "execution_count": null,
   "metadata": {},
   "outputs": [],
   "source": [
    "json_directory=\"./keys/singapore\"\n",
    "region=\"sgp\"\n",
    "output_base_dir=\"./data/singapore\"\n",
    "credentials_file=\"./credentials.json\""
   ]
  },
  {
   "cell_type": "code",
   "execution_count": null,
   "metadata": {},
   "outputs": [],
   "source": [
    "import os\n",
    "import subprocess"
   ]
  },
  {
   "cell_type": "code",
   "execution_count": null,
   "metadata": {},
   "outputs": [],
   "source": [
    "dirs = os.listdir(output_base_dir)\n",
    "\n",
    "# subset to dirs begining with 'dep'\n",
    "dirs = [d for d in dirs if d.startswith('dep')]\n",
    "dirs"
   ]
  },
  {
   "cell_type": "code",
   "execution_count": null,
   "metadata": {},
   "outputs": [],
   "source": [
    "for d in dirs[5:len(dirs)][::-1]:\n",
    "    print(d)\n",
    "    subprocess.run(['python', './05_combine_outputs.py',\n",
    "                    '--csv_file_pattern', f'{os.path.join(output_base_dir, d)}/{d}_*.csv',\n",
    "                    '--main_csv_file', f'./data/singapore/combined2/{d}.csv',\n",
    "                    '--remove_empty_rows'\n",
    "                    ])"
   ]
  },
  {
   "cell_type": "code",
   "execution_count": null,
   "metadata": {},
   "outputs": [],
   "source": []
  }
 ],
 "metadata": {
  "kernelspec": {
   "display_name": "Python 3",
   "language": "python",
   "name": "python3"
  },
  "language_info": {
   "codemirror_mode": {
    "name": "ipython",
    "version": 3
   },
   "file_extension": ".py",
   "mimetype": "text/x-python",
   "name": "python",
   "nbconvert_exporter": "python",
   "pygments_lexer": "ipython3",
   "version": "3.11.9"
  }
 },
 "nbformat": 4,
 "nbformat_minor": 2
}
