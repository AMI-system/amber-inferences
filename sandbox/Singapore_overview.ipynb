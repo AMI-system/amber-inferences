{
 "cells": [
  {
   "cell_type": "markdown",
   "metadata": {},
   "source": [
    "# Overview of Singapore Outputs"
   ]
  },
  {
   "cell_type": "markdown",
   "metadata": {},
   "source": [
    "## Hidden Code"
   ]
  },
  {
   "cell_type": "code",
   "execution_count": 1,
   "metadata": {},
   "outputs": [],
   "source": [
    "import matplotlib.pyplot as plt\n",
    "import numpy as np\n",
    "import pandas as pd\n",
    "from sklearn.metrics import confusion_matrix\n",
    "from PIL import Image\n",
    "import os\n",
    "import subprocess\n",
    "import math"
   ]
  },
  {
   "cell_type": "code",
   "execution_count": 2,
   "metadata": {},
   "outputs": [],
   "source": [
    "def initialise_session(credentials_file=\"credentials.json\"):\n",
    "    \"\"\"\n",
    "    Load AWS and API credentials from a configuration file and initialise an AWS session.\n",
    "\n",
    "    Args:\n",
    "        credentials_file (str): Path to the credentials JSON file.\n",
    "\n",
    "    Returns:\n",
    "        boto3.Client: Initialised S3 client.\n",
    "    \"\"\"\n",
    "    with open(credentials_file, encoding=\"utf-8\") as config_file:\n",
    "        aws_credentials = json.load(config_file)\n",
    "    session = boto3.Session(\n",
    "        aws_access_key_id=aws_credentials[\"AWS_ACCESS_KEY_ID\"],\n",
    "        aws_secret_access_key=aws_credentials[\"AWS_SECRET_ACCESS_KEY\"],\n",
    "        region_name=aws_credentials[\"AWS_REGION\"],\n",
    "    )\n",
    "    client = session.client(\"s3\", endpoint_url=aws_credentials[\"AWS_URL_ENDPOINT\"])\n",
    "    return client\n",
    "\n",
    "import boto3\n",
    "import json\n",
    "from boto3.s3.transfer import TransferConfig\n",
    "\n",
    "client = initialise_session('./credentials.json')\n",
    "\n",
    "# Transfer configuration for optimised S3 download\n",
    "transfer_config = TransferConfig(\n",
    "    max_concurrency=20,  # Increase the number of concurrent transfers\n",
    "    multipart_threshold=8 * 1024 * 1024,  # 8MB\n",
    "    max_io_queue=1000,\n",
    "    io_chunksize=262144,  # 256KB\n",
    ")"
   ]
  },
  {
   "cell_type": "code",
   "execution_count": 3,
   "metadata": {},
   "outputs": [],
   "source": [
    "def download_images(key, download_dir, bucket_name):\n",
    "    download_path = os.path.join(download_dir, os.path.basename(key))\n",
    "    client.download_file(bucket_name, key, download_path, Config=transfer_config)\n",
    "\n",
    "download_dir = './data/singapore/combined/downloaded_images'\n",
    "os.makedirs(download_dir, exist_ok=True)"
   ]
  },
  {
   "cell_type": "code",
   "execution_count": 4,
   "metadata": {},
   "outputs": [],
   "source": [
    "def annotate_image(image_path, dir, df, ax, scaling_required=False, crop_to_highlight=None, buffer=5):\n",
    "    df_image = df.loc[df['image_path'] == image_path, ]\n",
    "\n",
    "    img = plt.imread(f\"{dir}/{os.path.basename(image_path)}\")\n",
    "    image = Image.open(f\"{dir}/{os.path.basename(image_path)}\").convert(\"RGB\")\n",
    "    subp = ax.imshow(img, origin='lower')\n",
    "\n",
    "    for j, row in df_image.iterrows():\n",
    "        x_min = row['x_min'] -buffer\n",
    "        y_min = row['y_min'] -buffer\n",
    "        x_max = row['x_max'] +buffer\n",
    "        y_max = row['y_max'] +buffer\n",
    "\n",
    "        if scaling_required:\n",
    "            original_width, original_height = image.size\n",
    "            x_min = x_min *300 / original_width\n",
    "            y_min = y_min *300 / original_height\n",
    "            x_max = x_max *300 / original_width\n",
    "            y_max = y_max *300 / original_height\n",
    "\n",
    "        x = int(x_min)\n",
    "        y = int(y_min)\n",
    "        w = int(x_max - x_min)\n",
    "        h = int(y_max - y_min)\n",
    "\n",
    "        if (row['class_name'] == \"moth\") and ('Lepidoptera' not in row['order_name']):\n",
    "            col = 'orange'\n",
    "        elif (row['class_name'] != \"moth\") and ('Lepidoptera' in row['order_name']):\n",
    "            col = 'purple'\n",
    "        elif (row['class_name'] == \"moth\") and ('Lepidoptera' in row['order_name']):\n",
    "                col = 'green'\n",
    "        else:\n",
    "            col = 'red'\n",
    "\n",
    "        alph = 1\n",
    "        if crop_to_highlight is not None:\n",
    "            if row['crop_status'] != crop_to_highlight:\n",
    "                alph = 0.2\n",
    "\n",
    "\n",
    "        if (row['class_name'] == \"moth\") or (\"Lepidoptera\" in row['order_name']):\n",
    "            ax.text(x_min, y_max,\n",
    "                    f\"{row['top_1_species']}: {row['top_1_confidence']:.2f}\",\n",
    "                    color=col,\n",
    "                    fontsize=5, alpha=alph,\n",
    "                    verticalalignment=\"bottom\")\n",
    "\n",
    "        rect = plt.Rectangle((x, y), w, h, fill=False, edgecolor=col, linewidth=1, alpha=alph)\n",
    "        ax.add_patch(rect)\n",
    "\n",
    "    ax.set_title(f\"{os.path.basename(image_path)}\")\n",
    "    ax.axis('off')\n",
    "    return subp"
   ]
  },
  {
   "cell_type": "markdown",
   "metadata": {},
   "source": [
    "## Combine the outputs for each deployment"
   ]
  },
  {
   "cell_type": "code",
   "execution_count": null,
   "metadata": {},
   "outputs": [],
   "source": [
    "# for each dir in ./data/singapore, run 05_combine_outputs.py\n",
    "# and save the output in ./data/singapore/combined\n",
    "\n",
    "dirs = os.listdir('./data/singapore')\n",
    "dirs = [d for d in dirs if os.path.isdir(os.path.join('./data/singapore', d)) and d.startswith('dep')]\n",
    "dirs = [os.path.join('./data/singapore', d) for d in dirs]\n",
    "\n",
    "print(dirs)"
   ]
  },
  {
   "cell_type": "code",
   "execution_count": 6,
   "metadata": {},
   "outputs": [],
   "source": [
    "# Only need to run once, commenting out\n",
    "# for d in dirs[1:len(dirs)]:\n",
    "#     print(d)\n",
    "#     # run the script using subproces:\n",
    "#     subprocess.run(['python3', '05_combine_outputs.py',\n",
    "#                     '--csv_file_pattern', f'{d}/dep*.csv',\n",
    "#                     '--main_csv_file', f'./data/singapore/combined/{os.path.basename(d)}.csv'\n",
    "#                     ])"
   ]
  },
  {
   "cell_type": "markdown",
   "metadata": {},
   "source": [
    "## Create a moth prediction df"
   ]
  },
  {
   "cell_type": "code",
   "execution_count": null,
   "metadata": {},
   "outputs": [],
   "source": [
    "# For each csv in ./data/singapore/combined, remove where crops_status is 'NO DETECTIONS FOR IMAGE', and combine into one csv\n",
    "csvs = os.listdir('./data/singapore/combined2')\n",
    "csvs = [c for c in csvs if c.endswith('.csv')]\n",
    "csvs = [c for c in csvs if not c.startswith('combined')]\n",
    "\n",
    "df = pd.DataFrame()\n",
    "for c in csvs:\n",
    "    input_df = pd.read_csv(f'./data/singapore/combined2/{c}')\n",
    "    input_df = input_df.loc[input_df['crop_status'] != 'NO DETECTIONS FOR IMAGE', ]\n",
    "\n",
    "    input_df = input_df.loc[input_df['top_1_species'].isna() == False, ]\n",
    "    input_df['dep'] = os.path.basename(c).split('.')[0]\n",
    "    input_df['crop_area'] = (input_df['x_max'] - input_df['x_min']) * (input_df['y_max'] - input_df['y_min'])\n",
    "\n",
    "    # set new keys column as 'dep' and 'image_path' combined\n",
    "    input_df['keys'] = input_df['image_path'].apply(lambda x: f\"{input_df['dep'].iloc[0]}/snapshot_images/{os.path.basename(x)}\")\n",
    "    df = pd.concat([df, input_df])\n",
    "\n",
    "df.to_csv('./data/singapore/combined2/combined_moths.csv', index=False)"
   ]
  },
  {
   "cell_type": "code",
   "execution_count": 8,
   "metadata": {},
   "outputs": [],
   "source": [
    "# show subset where crop_status is nan\n",
    "df = df.loc[df['box_score'] != 'IMAGE CORRUPT', ]\n",
    "df = df.loc[df['box_score'] != 'NO DETECTIONS FOR IMAGE', ]"
   ]
  },
  {
   "cell_type": "code",
   "execution_count": null,
   "metadata": {},
   "outputs": [],
   "source": [
    "df.shape"
   ]
  },
  {
   "cell_type": "code",
   "execution_count": null,
   "metadata": {},
   "outputs": [],
   "source": [
    "df['order_name'].value_counts()"
   ]
  },
  {
   "cell_type": "code",
   "execution_count": null,
   "metadata": {},
   "outputs": [],
   "source": [
    "df['class_name'].value_counts()"
   ]
  },
  {
   "cell_type": "code",
   "execution_count": 12,
   "metadata": {},
   "outputs": [],
   "source": [
    "# populate the crop column, if missing\n",
    "df['crop_status'] = [os.path.basename(str(x)).replace('.jpg', '') for x in df['cropped_image_path'] ]\n",
    "\n",
    "# strip all before '_' i not nan\n",
    "df['crop_status'] = [x.split('_')[1] if x != 'nan' else x for x in df['crop_status']]"
   ]
  },
  {
   "cell_type": "code",
   "execution_count": null,
   "metadata": {},
   "outputs": [],
   "source": [
    "df = df.drop_duplicates(subset=[ 'x_min', 'x_max', 'y_min', 'y_max', 'crop_area'])\n",
    "df.reset_index(drop=True, inplace=True)\n",
    "df.head()"
   ]
  },
  {
   "cell_type": "code",
   "execution_count": 14,
   "metadata": {},
   "outputs": [],
   "source": [
    "# define order moth as moth if Lepidoptera in order_name, else nonmoth\n",
    "df['order_moth'] = np.where(df['order_name'].str.contains('Lepidoptera'), 'moth', 'nonmoth')\n",
    "df[['order_name', 'order_moth']].value_counts()\n",
    "\n",
    "\n",
    "df = df.loc[df['order_moth'] == 'moth', ]"
   ]
  },
  {
   "cell_type": "markdown",
   "metadata": {},
   "source": [
    "# Data Exploration"
   ]
  },
  {
   "cell_type": "code",
   "execution_count": null,
   "metadata": {},
   "outputs": [],
   "source": [
    "# Group and normalize by class_name\n",
    "df_grouped = df.groupby(['class_name', 'order_moth']).size().unstack()\n",
    "df_percent = df_grouped.div(df_grouped.sum(axis=1), axis=0) * 100  # Convert to percentage\n",
    "\n",
    "fig, ax = plt.subplots(figsize=(4, 4))\n",
    "df_percent.plot(kind='bar', stacked=True, ax=ax)\n",
    "\n",
    "\n",
    "for p in ax.patches:\n",
    "    width = p.get_width()\n",
    "    height = p.get_height()\n",
    "    x, y = p.get_xy()\n",
    "    if height > 0:  # Avoid labeling empty bars\n",
    "        ax.annotate(f'{height:.1f}%', (x + width / 2, y + height / 2),\n",
    "                    ha='center', va='center', fontsize=10, color='black')\n",
    "\n",
    "# Formatting\n",
    "plt.title('Consistency between Order and Binary Prediction')\n",
    "ax.set_ylabel('Percentage (%)')\n",
    "ax.set_xlabel('Binary Prediction')\n",
    "plt.legend(title='Order Prediction', bbox_to_anchor=(1.05, 1), loc='upper left')\n",
    "plt.show()\n"
   ]
  },
  {
   "cell_type": "code",
   "execution_count": null,
   "metadata": {},
   "outputs": [],
   "source": [
    "df['top_1_species'].value_counts().head(30).plot(kind='bar', figsize=(7, 5))\n",
    "\n",
    "# rotate x labels\n",
    "plt.xticks(rotation=45, ha='right')\n",
    "plt.tight_layout()\n",
    "plt.title('Most Popular Predicted Moth Species in Singapore')\n",
    "plt.show()"
   ]
  },
  {
   "cell_type": "code",
   "execution_count": null,
   "metadata": {},
   "outputs": [],
   "source": [
    "# Plto the crop area distribution\n",
    "\n",
    "df['crop_area'].plot(kind='hist', bins=100, figsize=(5, 3))\n",
    "plt.title('Crop Area Distribution')\n",
    "plt.xlabel('Crop Area (pixels squared)')\n",
    "plt.show()"
   ]
  },
  {
   "cell_type": "markdown",
   "metadata": {},
   "source": [
    "## Crop Confidence"
   ]
  },
  {
   "cell_type": "code",
   "execution_count": null,
   "metadata": {},
   "outputs": [],
   "source": [
    "df['top_1_confidence'].plot(kind='hist', bins=20, figsize=(7, 5))\n",
    "df['top_2_confidence'].plot(kind='hist', bins=20, color='orange', alpha=0.5)\n",
    "df['top_3_confidence'].plot(kind='hist', bins=20, color='yellow', alpha=0.5)\n",
    "df['top_4_confidence'].plot(kind='hist', bins=20, color='green', alpha=0.5)\n",
    "df['top_5_confidence'].plot(kind='hist', bins=20, color='purple', alpha=0.5)\n",
    "\n",
    "plt.legend(['Top 1 Confidence', 'Top 2 Confidence', 'Top 3 Confidence', 'Top 4 Confidence', 'Top 5 Confidence'])\n",
    "plt.title('Confidence Distribution of Top 5 Predictions')\n",
    "plt.xlabel('Confidence')"
   ]
  },
  {
   "cell_type": "markdown",
   "metadata": {},
   "source": [
    "## Crop Area"
   ]
  },
  {
   "cell_type": "code",
   "execution_count": null,
   "metadata": {},
   "outputs": [],
   "source": [
    "df['crop_area'].plot(kind='hist', bins=100, figsize=(5, 3))\n",
    "plt.title('Crop Area Distribution')\n",
    "plt.xlabel('Crop Area (pixels squared)')\n",
    "plt.show()"
   ]
  },
  {
   "cell_type": "markdown",
   "metadata": {},
   "source": [
    "## Number of Crops per Image"
   ]
  },
  {
   "cell_type": "code",
   "execution_count": null,
   "metadata": {},
   "outputs": [],
   "source": [
    "df['image_path'].value_counts().plot(kind='hist', bins=100, figsize=(5, 3))\n",
    "plt.title('Crops per image')\n",
    "plt.xlabel('Number of crops per image')\n",
    "plt.show()"
   ]
  },
  {
   "cell_type": "code",
   "execution_count": null,
   "metadata": {},
   "outputs": [],
   "source": [
    "df['image_path'].value_counts()"
   ]
  },
  {
   "cell_type": "markdown",
   "metadata": {},
   "source": [
    "# Explore Instances of Moth Predictions\n",
    "\n",
    "- Most confidence predictions\n",
    "- Most popular predictions\n",
    "- Largest Moths\n",
    "- Most populated images"
   ]
  },
  {
   "cell_type": "markdown",
   "metadata": {},
   "source": [
    "## Most Confident Predictions"
   ]
  },
  {
   "cell_type": "code",
   "execution_count": 22,
   "metadata": {},
   "outputs": [],
   "source": [
    "# order by top_1_confidence\n",
    "df_confident = df.sort_values(by='top_1_confidence', ascending=False)\n",
    "df_confident.reset_index(drop=True, inplace=True)\n",
    "\n",
    "# remove duplicated rows by image path, and bounding box\n",
    "df_confident = df_confident.drop_duplicates(subset=['image_path', 'x_min', 'y_min', 'x_max', 'y_max'])\n",
    "\n",
    "top_n=10\n",
    "\n",
    "df_confident = df_confident.head(top_n)"
   ]
  },
  {
   "cell_type": "code",
   "execution_count": null,
   "metadata": {},
   "outputs": [],
   "source": [
    "# sort by image_path\n",
    "df_confident.sort_values(by='image_path', inplace=True)\n",
    "df_confident.reset_index(drop=True, inplace=True)\n",
    "df_confident"
   ]
  },
  {
   "cell_type": "code",
   "execution_count": 24,
   "metadata": {},
   "outputs": [],
   "source": [
    "download_dir='./data/singapore/combined2/'"
   ]
  },
  {
   "cell_type": "code",
   "execution_count": 27,
   "metadata": {},
   "outputs": [],
   "source": [
    "# download the relevant images\n",
    "os.makedirs(os.path.join(download_dir, 'confident'), exist_ok=True)\n",
    "\n",
    "for i, row in df_confident.head(top_n).iterrows():\n",
    "    download_images(row['keys'], os.path.join(download_dir, 'confident'), 'sgp')"
   ]
  },
  {
   "cell_type": "code",
   "execution_count": null,
   "metadata": {},
   "outputs": [],
   "source": [
    "# for each unique image, annotate the bounding box\n",
    "fig, ax = plt.subplots(5, 2, figsize=(10, 10))\n",
    "ax = ax.ravel()\n",
    "\n",
    "# for eah row in df_confident, get the image_path\n",
    "for i, row in df_confident.head(top_n).iterrows():\n",
    "    annotate_image(row['image_path'],\n",
    "                os.path.join(download_dir, 'confident'),\n",
    "                df,\n",
    "                ax[i],\n",
    "                crop_to_highlight=row['crop_status'],\n",
    "                buffer=20, scaling_required=True)\n",
    "\n",
    "plt.tight_layout()\n",
    "plt.show()"
   ]
  },
  {
   "cell_type": "markdown",
   "metadata": {},
   "source": [
    "## Most Popular Predictions\n"
   ]
  },
  {
   "cell_type": "code",
   "execution_count": null,
   "metadata": {},
   "outputs": [],
   "source": [
    "try:\n",
    "    os.mkdir(os.path.join(download_dir, 'most_popular'))\n",
    "except OSError as error:\n",
    "    print(error)"
   ]
  },
  {
   "cell_type": "code",
   "execution_count": 36,
   "metadata": {},
   "outputs": [],
   "source": [
    "def species_plot(df, species_name, n_examples):\n",
    "    df_species = df.loc[df['top_1_species'] == species_name]\n",
    "    df_species = df_species.sort_values(by='top_1_confidence', ascending=False)\n",
    "    df_species.reset_index(drop=True, inplace=True)\n",
    "\n",
    "    for i, row in df_species.head(n_examples).iterrows():\n",
    "        download_images(row['keys'], os.path.join(download_dir, 'most_popular'), 'sgp')\n",
    "\n",
    "    fig, ax = plt.subplots(5, 2, figsize=(10, 10))\n",
    "    ax = ax.ravel()\n",
    "\n",
    "    # for eah row in df_confident, get the image_path\n",
    "    for i, row in df_species.head(top_n).iterrows():\n",
    "        annotate_image(row['image_path'],\n",
    "                    os.path.join(download_dir, 'most_popular'),\n",
    "                    df,\n",
    "                    ax[i],\n",
    "                    crop_to_highlight=row['crop_status'],\n",
    "                    buffer=20, scaling_required=True)\n",
    "\n",
    "    plt.tight_layout()\n",
    "    plt.suptitle(species_name)\n",
    "    plt.show()"
   ]
  },
  {
   "cell_type": "code",
   "execution_count": null,
   "metadata": {},
   "outputs": [],
   "source": [
    "top_n_moths = 5\n",
    "species = df['top_1_species'].value_counts()[0:top_n_moths].index\n",
    "for i in species:\n",
    "    print(i)"
   ]
  },
  {
   "cell_type": "code",
   "execution_count": null,
   "metadata": {},
   "outputs": [],
   "source": [
    "species_plot(df, species[0], 10)"
   ]
  },
  {
   "cell_type": "code",
   "execution_count": null,
   "metadata": {},
   "outputs": [],
   "source": [
    "species_plot(df, species[1], 10)"
   ]
  },
  {
   "cell_type": "code",
   "execution_count": null,
   "metadata": {},
   "outputs": [],
   "source": [
    "species_plot(df, species[2], 10)"
   ]
  },
  {
   "cell_type": "markdown",
   "metadata": {},
   "source": [
    "## Largest Moths"
   ]
  },
  {
   "cell_type": "code",
   "execution_count": null,
   "metadata": {},
   "outputs": [],
   "source": [
    "# order by moth size\n",
    "df_area = df.sort_values(by='crop_area', ascending=False)\n",
    "\n",
    "# drop rows where bounding box and area identical\n",
    "df_area = df_area.drop_duplicates(subset=['x_min', 'x_max', 'y_min', 'y_max', 'crop_area'])\n",
    "\n",
    "# remove duplicated species\n",
    "df_area = df_area.drop_duplicates(subset=['top_1_species'])\n",
    "df_area.reset_index(drop=True, inplace=True)\n",
    "top_n=50\n",
    "\n",
    "df_area = df_area.head(top_n)\n",
    "df_area"
   ]
  },
  {
   "cell_type": "code",
   "execution_count": 44,
   "metadata": {},
   "outputs": [],
   "source": [
    "# make the directory\n",
    "os.makedirs(os.path.join(download_dir, 'largest'), exist_ok=True)\n",
    "\n",
    "# download the relevant images\n",
    "for i, row in df_area.iterrows():\n",
    "    download_images(row['keys'], os.path.join(download_dir, 'largest'), 'sgp')"
   ]
  },
  {
   "cell_type": "code",
   "execution_count": null,
   "metadata": {},
   "outputs": [],
   "source": [
    "# for each unique image, annotate the bounding box\n",
    "fig, ax = plt.subplots(math.ceil(top_n/2), 2, figsize=(20, top_n*2))\n",
    "ax = ax.ravel()\n",
    "\n",
    "# for eah row in df_confident, get the image_path\n",
    "for i, row in df_area.iterrows():\n",
    "    annotate_image(row['image_path'],\n",
    "                os.path.join(download_dir, 'largest'),\n",
    "                df,\n",
    "                ax[i],\n",
    "                crop_to_highlight=row['crop_status'],\n",
    "                buffer=20,\n",
    "                scaling_required=True)\n",
    "\n",
    "plt.tight_layout()\n",
    "plt.show()"
   ]
  },
  {
   "cell_type": "code",
   "execution_count": null,
   "metadata": {},
   "outputs": [],
   "source": []
  }
 ],
 "metadata": {
  "kernelspec": {
   "display_name": "Python 3",
   "language": "python",
   "name": "python3"
  },
  "language_info": {
   "codemirror_mode": {
    "name": "ipython",
    "version": 3
   },
   "file_extension": ".py",
   "mimetype": "text/x-python",
   "name": "python",
   "nbconvert_exporter": "python",
   "pygments_lexer": "ipython3",
   "version": "3.11.9"
  }
 },
 "nbformat": 4,
 "nbformat_minor": 2
}
