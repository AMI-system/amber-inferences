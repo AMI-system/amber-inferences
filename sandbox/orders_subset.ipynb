{
 "cells": [
  {
   "cell_type": "code",
   "execution_count": 1,
   "id": "02e0fabf-2cbf-4911-9144-1ee38399faeb",
   "metadata": {},
   "outputs": [],
   "source": [
    "import os\n",
    "import pandas as pd"
   ]
  },
  {
   "cell_type": "code",
   "execution_count": 5,
   "id": "2b721e7a-fb0e-4359-ada6-37853f186e70",
   "metadata": {},
   "outputs": [],
   "source": [
    "def combine_csvs_from_subdirectories(root_directory):\n",
    "    \"\"\"\n",
    "    Reads all CSV files from the subdirectories of the root directory and combines them into a single DataFrame.\n",
    "\n",
    "    Args:\n",
    "        root_directory (str): Path to the root directory containing subdirectories with CSV files.\n",
    "\n",
    "    Returns:\n",
    "        pd.DataFrame: Combined DataFrame containing data from all CSV files.\n",
    "    \"\"\"\n",
    "    all_csv_files = []\n",
    "\n",
    "    # Walk through the root directory and its subdirectories\n",
    "    for subdir, _, files in os.walk(root_directory):\n",
    "        files = [x for x in files if x.endswith(\".csv\")]\n",
    "        for file in files:\n",
    "            full_path = os.path.join(subdir, file)\n",
    "            all_csv_files.append(full_path)\n",
    "    all_csv_files = [\n",
    "        x for x in all_csv_files if \"checkpoint\" not in x and \"combined\" not in x\n",
    "    ]\n",
    "\n",
    "    combined_df = pd.DataFrame()\n",
    "    for path in all_csv_files:\n",
    "        print(path)\n",
    "        temp = pd.read_csv(path, on_bad_lines=\"skip\", dtype=\"unicode\")\n",
    "\n",
    "        print(f\"subsetting to max 100 instances of each order, going from {temp.shape[0]} rows to....\")\n",
    "        temp = temp.groupby('order_name').apply(lambda x: x.sample(n=min(len(x), 100), replace=False)).reset_index(drop=True)\n",
    "\n",
    "        print(f\"...{temp.shape[0]}\")\n",
    "        combined_df = pd.concat([combined_df, temp], ignore_index=True)\n",
    "\n",
    "    return combined_df"
   ]
  },
  {
   "cell_type": "code",
   "execution_count": null,
   "id": "e73079ab-d68c-4359-8510-4c251d7c9a8e",
   "metadata": {},
   "outputs": [],
   "source": [
    "root_dir = \"/home/users/katriona/amber-inferences/data/harlequin_new_loc_model/\"\n",
    "combined_dataframe = combine_csvs_from_subdirectories(root_dir)"
   ]
  },
  {
   "cell_type": "code",
   "execution_count": null,
   "id": "0043cdcc-b3f8-47f8-9f79-03957e72f27d",
   "metadata": {},
   "outputs": [],
   "source": [
    "combined_dataframe"
   ]
  },
  {
   "cell_type": "code",
   "execution_count": null,
   "id": "23ac3e12-1383-4631-8710-1f4ff022aef8",
   "metadata": {},
   "outputs": [],
   "source": []
  }
 ],
 "metadata": {
  "kernelspec": {
   "display_name": "Python 3 + Jaspy",
   "language": "python",
   "name": "jaspy"
  },
  "language_info": {
   "codemirror_mode": {
    "name": "ipython",
    "version": 3
   },
   "file_extension": ".py",
   "mimetype": "text/x-python",
   "name": "python",
   "nbconvert_exporter": "python",
   "pygments_lexer": "ipython3",
   "version": "3.11.9"
  }
 },
 "nbformat": 4,
 "nbformat_minor": 5
}
