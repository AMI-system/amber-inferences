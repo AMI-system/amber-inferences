{
 "cells": [
  {
   "cell_type": "markdown",
   "id": "cad48d35",
   "metadata": {},
   "source": [
    "# Inference Outputs Inspection Notebook\n",
    "\n",
    "This notebook is set up to check and inspect all inference outputs are as expected. This includes two steps:\n",
    "\n",
    "1. checking that the images have been processed. \n",
    "2. inspecting all log files to determine what caused any errors."
   ]
  },
  {
   "cell_type": "code",
   "execution_count": null,
   "id": "f469d534",
   "metadata": {},
   "outputs": [],
   "source": [
    "import json\n",
    "import os\n",
    "import pandas as pd\n",
    "import tqdm"
   ]
  },
  {
   "cell_type": "code",
   "execution_count": null,
   "id": "08ea301d",
   "metadata": {},
   "outputs": [],
   "source": [
    "region = \"thailand\"\n",
    "code = \"tha\""
   ]
  },
  {
   "cell_type": "code",
   "execution_count": null,
   "id": "f25ab5dd",
   "metadata": {},
   "outputs": [],
   "source": [
    "logs_dir = f\"/home/users/katriona/amber-inferences/logs/{code}/\""
   ]
  },
  {
   "cell_type": "code",
   "execution_count": null,
   "id": "9ed5b0a8",
   "metadata": {},
   "outputs": [],
   "source": [
    "keys_files = os.listdir(f\"/home/users/katriona/amber-inferences/keys/{region}_final/\")\n",
    "keys_files = [os.path.join(f\"/home/users/katriona/amber-inferences/keys/{region}_final/\", x) for x in keys_files]\n",
    "\n",
    "for i in keys_files:\n",
    "    print(i)"
   ]
  },
  {
   "cell_type": "markdown",
   "id": "7dd0aa3e",
   "metadata": {},
   "source": [
    "## Check Image Processing"
   ]
  },
  {
   "cell_type": "markdown",
   "id": "430b6e17",
   "metadata": {},
   "source": [
    "Here we read in the keys files and check all images are included in the output inference CSV files. \n",
    "Where images are missing, there is the option (`write_missing`) to write those to a new JSON file for future inference calls. "
   ]
  },
  {
   "cell_type": "code",
   "execution_count": null,
   "id": "598d26e3",
   "metadata": {},
   "outputs": [],
   "source": [
    "def check_file(keys_file, region, write_missing=False):\n",
    "    # Load the keys file\n",
    "    with open(keys_file, \"r\") as f:\n",
    "        keys = json.load(f)\n",
    "\n",
    "    dep = os.path.basename(keys_file).split(\".\")[0]\n",
    "    print(f\"🎥 Checking {dep}...\")\n",
    "\n",
    "    # Where to look for CSV files\n",
    "    csv_dir = f\"/gws/nopw/j04/ceh_generic/kgoldmann/{region}_inferences_tracking/{dep}\"  # current directory\n",
    "\n",
    "    all_missing_keys = {}\n",
    "\n",
    "    for date, image_paths in tqdm.tqdm(keys.items()):\n",
    "        jpgs = [os.path.basename(p) for p in image_paths]\n",
    "\n",
    "        csv_path = os.path.join(csv_dir, f\"{dep}_{date}.csv\")\n",
    "        if not os.path.exists(csv_path):\n",
    "            print(f\" ⚠️ CSV for {date} not found: {csv_path}\")\n",
    "            continue\n",
    "\n",
    "        # Load the CSV\n",
    "        try:\n",
    "            df = pd.read_csv(csv_path, low_memory=False, encoding='utf-8')\n",
    "\n",
    "            # Flatten all strings in the DataFrame to search for filenames\n",
    "            analysed_images = list(set(df[\"image_path\"]))\n",
    "            analysed_images = [os.path.basename(x) for x in analysed_images if isinstance(x, str)]\n",
    "            missing = [os.path.basename(jpg) for jpg in jpgs if os.path.basename(jpg) not in analysed_images]\n",
    "\n",
    "            if missing:\n",
    "                print(f\"- ❌ {len(missing)}/{len(jpgs)} missing jpgs for {os.path.basename(csv_path)}\")\n",
    "\n",
    "                # create a subset of the format keys_file made up of the missing jpgs\n",
    "                missing_keys = {date: [os.path.join(dep, \"snapshot_images\", x) for x in missing]}\n",
    "                all_missing_keys.update(missing_keys)\n",
    "\n",
    "        except Exception as e:\n",
    "            print(f\" ⚠️ Error processing {csv_path}: {e}\")\n",
    "\n",
    "    if all_missing_keys:\n",
    "        # write all_missing_keys to a file\n",
    "        missing_keys_file = f\"/home/users/katriona/amber-inferences/keys/{region}_final_missing_keys/{dep}.json\"\n",
    "\n",
    "        if write_missing:\n",
    "            print(f\"❗️ Writing missing keys for {dep} to {missing_keys_file}\")\n",
    "            os.makedirs(os.path.dirname(missing_keys_file), exist_ok=True)\n",
    "\n",
    "            with open(missing_keys_file, \"w\") as f:\n",
    "                json.dump(all_missing_keys, f, indent=4)\n"
   ]
  },
  {
   "cell_type": "code",
   "execution_count": null,
   "id": "f7c59950",
   "metadata": {},
   "outputs": [],
   "source": [
    "for keys_file in keys_files:\n",
    "    check_file(keys_file, region)"
   ]
  },
  {
   "cell_type": "markdown",
   "id": "e51cd559",
   "metadata": {},
   "source": [
    "## Check Log Messages"
   ]
  },
  {
   "cell_type": "markdown",
   "id": "e1fe0c66",
   "metadata": {},
   "source": [
    "This section is designed to inspect all log files, and save the last line in the file. This will help identify any errors that occurred during processing and which deployments/sessions should be rerun."
   ]
  },
  {
   "cell_type": "code",
   "execution_count": null,
   "id": "c86d3858",
   "metadata": {},
   "outputs": [],
   "source": [
    "# read in the last line of each log file and save it to a DataFrame\n",
    "tail_lines = pd.DataFrame(columns=['last_line', 'last_full_line', 'error_or_pass'])\n",
    "\n",
    "log_files = [os.path.join(logs_dir, f) for f in os.listdir(logs_dir) if f.endswith('.out')]\n",
    "for log_file in log_files:\n",
    "    with open(log_file, 'r') as f:\n",
    "        lines = f.readlines()\n",
    "        if lines:\n",
    "            last_line = lines[-1].strip()\n",
    "            error_or_pass = 'ERROR'\n",
    "            if 'All images already processed in' in last_line:\n",
    "                last_line = 'All images already processed in ...'\n",
    "                error_or_pass = 'PASS'\n",
    "            if 'Error submitting job for chunk ' in last_line:\n",
    "                last_line = 'Error submitting job for chunk ...'\n",
    "            if 'CANCELLED AT' in last_line and 'DUE TO TIME LIMIT ***' in last_line:\n",
    "                last_line = 'CANCELLED AT ... DUE TO TIME LIMIT'\n",
    "            if 'YOLOv8m-seg summary (fused)' in last_line:\n",
    "                error_or_pass = 'PASS'\n",
    "            if 'df = pd.read_csv(csv_file)' in last_line:\n",
    "                error_or_pass = 'ERROR ON TRACKING ONLY'\n",
    "            if 'Cosine similarity score out of bounds' in last_line:\n",
    "                error_or_pass = 'PASS, but worth checking not for all images'\n",
    "\n",
    "            tail_lines.loc[os.path.basename(log_file)] = [last_line, lines[-1].strip(), error_or_pass]"
   ]
  },
  {
   "cell_type": "code",
   "execution_count": null,
   "id": "c8e32569",
   "metadata": {},
   "outputs": [],
   "source": [
    "# get value counts of the last lines (first element of the list)\n",
    "tail_lines['last_line'].value_counts()"
   ]
  },
  {
   "cell_type": "code",
   "execution_count": null,
   "id": "f6eabb5f",
   "metadata": {},
   "outputs": [],
   "source": [
    "tail_lines['error_or_pass'].value_counts()"
   ]
  },
  {
   "cell_type": "code",
   "execution_count": null,
   "id": "d008ad2a",
   "metadata": {},
   "outputs": [],
   "source": [
    "tail_lines[tail_lines['last_full_line'] == 'df = pd.read_csv(csv_file)']"
   ]
  },
  {
   "cell_type": "code",
   "execution_count": null,
   "id": "2a2beb37",
   "metadata": {},
   "outputs": [],
   "source": []
  }
 ],
 "metadata": {
  "kernelspec": {
   "display_name": "Python 3",
   "language": "python",
   "name": "python3"
  },
  "language_info": {
   "codemirror_mode": {
    "name": "ipython",
    "version": 3
   },
   "file_extension": ".py",
   "mimetype": "text/x-python",
   "name": "python",
   "nbconvert_exporter": "python",
   "pygments_lexer": "ipython3",
   "version": "3.11.9"
  }
 },
 "nbformat": 4,
 "nbformat_minor": 5
}
