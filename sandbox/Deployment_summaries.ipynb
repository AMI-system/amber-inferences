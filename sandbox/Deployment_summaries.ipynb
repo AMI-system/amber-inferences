{
 "cells": [
  {
   "cell_type": "markdown",
   "metadata": {},
   "source": [
    "# Examine Deployment Inferences"
   ]
  },
  {
   "cell_type": "code",
   "execution_count": 1,
   "metadata": {},
   "outputs": [],
   "source": [
    "import matplotlib.pyplot as plt\n",
    "import numpy as np\n",
    "import pandas as pd\n",
    "from sklearn.metrics import confusion_matrix"
   ]
  },
  {
   "cell_type": "markdown",
   "metadata": {},
   "source": [
    "## Set up the plotting functions\n",
    "\n",
    "- plot_order_vs_species_confidence: to determine whether these correlate\n",
    "- plot_order_binary_consistency: to determine whether the binary classification is consistent with the order classification"
   ]
  },
  {
   "cell_type": "code",
   "execution_count": 92,
   "metadata": {},
   "outputs": [],
   "source": [
    "def plot_order_vs_species_confidence(df, species_conf_column='top_1_confidence'):\n",
    "    df_moth = df.loc[df['order_name'].str.contains('Lepidoptera', na=False), ]\n",
    "\n",
    "    # plot scatter plot with best fit line\n",
    "    plt.scatter(df_moth['order_confidence'], df_moth[species_conf_column])\n",
    "\n",
    "    # add best fit line\n",
    "    plt.plot(np.unique(df_moth['order_confidence']),\n",
    "            np.poly1d(np.polyfit(df_moth['order_confidence'], df_moth[species_conf_column], 1))(np.unique(df_moth['order_confidence'])),\n",
    "            'r')\n",
    "\n",
    "\n",
    "def plot_order_binary_consistency(df):\n",
    "    # remove empty order_name rows\n",
    "    df = df.dropna(subset=['order_name'])\n",
    "\n",
    "\n",
    "    # new column where moth if order_name contains Lepidoptera, non-moth otherwise\n",
    "    df['order_moth'] = df['order_name'].apply(lambda x: 'moth' if 'Lepidoptera' in x else 'nonmoth')\n",
    "\n",
    "    breakdown = pd.DataFrame(df[['order_moth', 'class_name']].value_counts())\n",
    "\n",
    "    # plot confusion matrix of order_moth vs class_name\n",
    "    fig, ax = plt.subplots()\n",
    "    im = ax.imshow(breakdown.values)\n",
    "\n",
    "    # We want to show all ticks...\n",
    "    ax.set_xticks(np.arange(len(breakdown.columns)))\n",
    "    ax.set_yticks(np.arange(len(breakdown.index)))\n",
    "    # ... and label them with the respective list entries\n",
    "    ax.set_xticklabels(breakdown.columns)\n",
    "    ax.set_yticklabels(breakdown.index)\n",
    "\n",
    "    plt.show()\n"
   ]
  },
  {
   "cell_type": "markdown",
   "metadata": {},
   "source": [
    "## Load in the data and apply the functions"
   ]
  },
  {
   "cell_type": "code",
   "execution_count": null,
   "metadata": {},
   "outputs": [],
   "source": [
    "plot_order_vs_species_confidence(df0)\n",
    "plot_order_binary_consistency(df0)"
   ]
  },
  {
   "cell_type": "code",
   "execution_count": 4,
   "metadata": {},
   "outputs": [],
   "source": [
    "df0 = pd.read_csv('./dep000082.csv')\n",
    "\n",
    "df1 = pd.read_csv('./data/farralia/dep000080/dep000080_results.csv')\n",
    "\n",
    "df2 = pd.read_csv('/home/users/katriona/amber-inferences/data/solar/gbr/dep000072.csv')"
   ]
  },
  {
   "cell_type": "code",
   "execution_count": null,
   "metadata": {},
   "outputs": [],
   "source": [
    "# three plot figure, with 3 columns and 1 row\n",
    "fig, axs = plt.subplots(1, 3, figsize=(15, 5))\n",
    "\n",
    "df0['top_1_confidence'].hist(bins=100, ax=axs[0])\n",
    "df2['top_1_confidence'].hist(bins=100, ax=axs[1])\n",
    "df1['species_confidence'].hist(bins=100, ax=axs[2])\n",
    "\n",
    "axs[0].set_title('Nettlebed')\n",
    "axs[1].set_title('dep000072')\n",
    "axs[2].set_title('dep000080')\n",
    "\n",
    "# plt.sutitle('Top Species Confidence for some UK deployments')\n",
    "\n",
    "plt.suptitle('Top Species Confidence for some UK deployments')\n",
    "\n",
    "\n",
    "# supxlabel\n",
    "axs[1].set_xlabel('Confidence')\n",
    "axs[0].set_ylabel('Number of crops')\n",
    "\n",
    "plt.show()"
   ]
  },
  {
   "cell_type": "markdown",
   "metadata": {},
   "source": [
    "## Troubleshooting blurry images"
   ]
  },
  {
   "cell_type": "markdown",
   "metadata": {},
   "source": [
    "df0.head()\n"
   ]
  },
  {
   "cell_type": "code",
   "execution_count": null,
   "metadata": {},
   "outputs": [],
   "source": [
    "crops = df0['cropped_image_path'][0:10]\n",
    "\n",
    "crops"
   ]
  },
  {
   "cell_type": "code",
   "execution_count": null,
   "metadata": {},
   "outputs": [],
   "source": [
    "image_path = crops[0]\n",
    "\n",
    "# load in the image and display it\n",
    "fig, ax = plt.subplots(figsize=(3, 3))\n",
    "img = plt.imread(image_path)\n",
    "plt.imshow(img)"
   ]
  },
  {
   "cell_type": "code",
   "execution_count": 34,
   "metadata": {},
   "outputs": [],
   "source": [
    "# Determine how blurry the image is\n",
    "from PIL import Image\n",
    "import cv2\n",
    "\n",
    "def variance_of_laplacian(image):\n",
    "    return cv2.Laplacian(image, cv2.CV_64F).var()\n",
    "\n",
    "def blurriness(image_path):\n",
    "    image = cv2.imread(image_path)\n",
    "    gray = cv2.cvtColor(image, cv2.COLOR_BGR2GRAY)\n",
    "    fm = variance_of_laplacian(gray)\n",
    "    return fm\n",
    "\n",
    "\n",
    "def calc_blurriness(df):\n",
    "    df = df.dropna(subset=['cropped_image_path'])\n",
    "    df['blurriness'] = [blurriness(x) for x in df['cropped_image_path']]\n",
    "    return df\n",
    "\n",
    "def plot_blurriness(df, threshold=100):\n",
    "    df['blurriness'].hist(bins=100)\n",
    "\n",
    "    plt.annotate('Less blurry ->', xy=(100, 1000), xytext=(100, 2000),\n",
    "                arrowprops=dict(facecolor='black', shrink=0.05))\n",
    "    plt.annotate('<- More blurry', xy=(1000, 1000), xytext=(1000, 2000),\n",
    "                arrowprops=dict(facecolor='black', shrink=0.05))\n",
    "\n",
    "    plt.xlabel('Sharpness')\n",
    "    plt.ylabel('Number of Crops')\n",
    "\n",
    "    plt.show()"
   ]
  },
  {
   "cell_type": "code",
   "execution_count": null,
   "metadata": {},
   "outputs": [],
   "source": [
    "df0_blur = calc_blurriness(df0)"
   ]
  },
  {
   "cell_type": "code",
   "execution_count": null,
   "metadata": {},
   "outputs": [],
   "source": [
    "hist_of_bluriness(df0_blur, 100)"
   ]
  },
  {
   "cell_type": "code",
   "execution_count": null,
   "metadata": {},
   "outputs": [],
   "source": [
    "hist_of_bluriness(df1)"
   ]
  },
  {
   "cell_type": "code",
   "execution_count": null,
   "metadata": {},
   "outputs": [],
   "source": [
    "# for each directory in ./data/harlequin_flatbugs run 05_combine_outputs\n",
    "\n",
    "import os\n",
    "import subprocess\n",
    "\n",
    "all_files = os.listdir('./data/harlequin_flatbug')\n",
    "# strip all files that are not directories\n",
    "all_directories = [x for x in all_files if x.endswith('.csv')]\n",
    "all_directories = list(set([x.split(\"_\")[0] for x in all_directories]))\n",
    "\n",
    "print(all_directories)\n",
    "\n",
    "for dep in all_directories:\n",
    "    print(dep)\n",
    "\n",
    "\n",
    "    # run the script\n",
    "    subprocess.run(['python', '05_combine_outputs.py',\n",
    "                    f'./data/harlequin_flatbug/{dep}*.csv',\n",
    "                    f'./data/harlequin_flatbug/final_outputs_{dep}*.csv'])\n",
    "\n"
   ]
  },
  {
   "cell_type": "code",
   "execution_count": null,
   "metadata": {},
   "outputs": [],
   "source": []
  },
  {
   "cell_type": "code",
   "execution_count": null,
   "metadata": {},
   "outputs": [],
   "source": []
  },
  {
   "cell_type": "code",
   "execution_count": null,
   "metadata": {},
   "outputs": [],
   "source": []
  },
  {
   "cell_type": "code",
   "execution_count": null,
   "metadata": {},
   "outputs": [],
   "source": []
  },
  {
   "cell_type": "code",
   "execution_count": null,
   "metadata": {},
   "outputs": [],
   "source": [
    "hist_of_bluriness(df2)"
   ]
  }
 ],
 "metadata": {
  "kernelspec": {
   "display_name": "Python 3",
   "language": "python",
   "name": "python3"
  },
  "language_info": {
   "codemirror_mode": {
    "name": "ipython",
    "version": 3
   },
   "file_extension": ".py",
   "mimetype": "text/x-python",
   "name": "python",
   "nbconvert_exporter": "python",
   "pygments_lexer": "ipython3",
   "version": "3.11.9"
  }
 },
 "nbformat": 4,
 "nbformat_minor": 2
}
