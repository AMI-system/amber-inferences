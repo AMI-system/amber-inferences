{
 "cells": [
  {
   "cell_type": "code",
   "execution_count": 1,
   "metadata": {},
   "outputs": [],
   "source": [
    "import pandas as pd\n",
    "import os\n",
    "import matplotlib.pyplot as plt\n",
    "import matplotlib.image as mpimg\n",
    "import math\n",
    "import numpy as np"
   ]
  },
  {
   "cell_type": "code",
   "execution_count": null,
   "metadata": {},
   "outputs": [],
   "source": [
    "# load in the ./data/all_dep*csv files and create a single file with all the data\n",
    "all_csvs = os.listdir('./data')\n",
    "all_csvs = [f for f in all_csvs if 'all_dep' in f]\n",
    "\n",
    "print(all_csvs)"
   ]
  },
  {
   "cell_type": "code",
   "execution_count": 14,
   "metadata": {},
   "outputs": [],
   "source": [
    "def process_csv(f):\n",
    "    df = pd.read_csv(f'./data/{f}', low_memory=False)\n",
    "    px_to_cm = 0.0264583333\n",
    "    df['area'] = ((df['x_max'] - df['x_min'])*px_to_cm) * ((df['y_max'] - df['y_min'])*px_to_cm)\n",
    "    df = df.loc[df['cropped_image_path'] != '', ]\n",
    "\n",
    "    # drop where cropped_image_path is empty\n",
    "    df = df.dropna(subset=['cropped_image_path'])\n",
    "    print(f\"{f} returns {df.shape[0]} rows\")\n",
    "    return df"
   ]
  },
  {
   "cell_type": "code",
   "execution_count": null,
   "metadata": {},
   "outputs": [],
   "source": [
    "all_dep = pd.DataFrame()\n",
    "\n",
    "for csv_file in all_csvs:\n",
    "    df = process_csv(csv_file)\n",
    "    all_dep = pd.concat([all_dep, df])"
   ]
  },
  {
   "cell_type": "code",
   "execution_count": null,
   "metadata": {},
   "outputs": [],
   "source": [
    "df.head()"
   ]
  },
  {
   "cell_type": "code",
   "execution_count": null,
   "metadata": {},
   "outputs": [],
   "source": [
    "df['deployment_id'] = [os.path.basename(os.path.dirname(f)) for f in df['image_path']]\n",
    "\n",
    "df['deployment_id'].value_counts()"
   ]
  },
  {
   "cell_type": "code",
   "execution_count": null,
   "metadata": {},
   "outputs": [],
   "source": [
    "df['deployment_id'].value_counts()"
   ]
  },
  {
   "cell_type": "code",
   "execution_count": null,
   "metadata": {},
   "outputs": [],
   "source": [
    "# order df by width, descending\n",
    "\n",
    "#get the 5 largest 'area' from each 'deployment_id'\n",
    "largest_images=list(df.sort_values('area',ascending = False).groupby([df['deployment_id']])['cropped_image_path'])\n",
    "\n",
    "largest_images\n"
   ]
  },
  {
   "cell_type": "code",
   "execution_count": 9,
   "metadata": {},
   "outputs": [],
   "source": [
    "def show_largest_images(largest_images):\n",
    "\n",
    "\n",
    "    rows = math.ceil(len(largest_images)/5)\n",
    "    fig, axes = plt.subplots(rows, 5, figsize=(20, 20))\n",
    "\n",
    "\n",
    "    print(len(np.ravel(axes)))\n",
    "\n",
    "    for i in range(len(largest_images)):\n",
    "\n",
    "        ax = np.ravel(axes)[i]\n",
    "        img = mpimg.imread(largest_images[i])\n",
    "        ax.set_title(f'{os.path.basename(os.path.dirname(largest_images[i]))}')\n",
    "        ax.imshow(img)\n",
    "    plt.show()"
   ]
  },
  {
   "cell_type": "code",
   "execution_count": null,
   "metadata": {},
   "outputs": [],
   "source": [
    "show_largest_images(largest_images)"
   ]
  },
  {
   "cell_type": "code",
   "execution_count": null,
   "metadata": {},
   "outputs": [],
   "source": []
  }
 ],
 "metadata": {
  "kernelspec": {
   "display_name": "Python 3",
   "language": "python",
   "name": "python3"
  },
  "language_info": {
   "codemirror_mode": {
    "name": "ipython",
    "version": 3
   },
   "file_extension": ".py",
   "mimetype": "text/x-python",
   "name": "python",
   "nbconvert_exporter": "python",
   "pygments_lexer": "ipython3",
   "version": "3.11.9"
  }
 },
 "nbformat": 4,
 "nbformat_minor": 2
}
