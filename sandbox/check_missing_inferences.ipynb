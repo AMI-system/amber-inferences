{
 "cells": [
  {
   "cell_type": "markdown",
   "metadata": {},
   "source": [
    "# Look for missing inferences\n",
    "\n",
    "This notebook compares the files in the inference files with the key list to check whether any were missed. \n",
    "\n",
    "TODO: add as a test ."
   ]
  },
  {
   "cell_type": "code",
   "execution_count": 1,
   "metadata": {},
   "outputs": [],
   "source": [
    "import json\n",
    "import pandas as pd\n",
    "import os"
   ]
  },
  {
   "cell_type": "code",
   "execution_count": null,
   "metadata": {},
   "outputs": [],
   "source": [
    "# read in ./data/singapore/dep000050.csv\n",
    "def get_missing_images(dep):\n",
    "    print(f'Running for dep {dep}')\n",
    "\n",
    "    print('- Reading inferences...')\n",
    "    df = pd.read_csv(f'./data/singapore/{dep}.csv')\n",
    "    df_images = list(set(df['image_path']))\n",
    "    df_images = [os.path.basename(x) for x in df_images]\n",
    "\n",
    "    print('- Reading keys...')\n",
    "    with open(f'./keys/singapore/{dep}_workload_chunks.json') as f:\n",
    "        json_keys = json.load(f)\n",
    "    # get the values from each element in the json_keys\n",
    "    json_values = [json_keys[x]['keys'] for x in json_keys]\n",
    "    json_values = [item for sublist in json_values for item in sublist]\n",
    "    json_values = list(set(json_values))\n",
    "    json_values = [x for x in json_values if x.endswith('.jpg')]\n",
    "    json_values = [os.path.basename(x) for x in json_values]\n",
    "\n",
    "    print('- Comparing...')\n",
    "    missing = [x for x in df_images if x not in json_values]\n",
    "\n",
    "    print(f'- Missing {len(missing)} images')\n",
    "\n",
    "    return missing"
   ]
  },
  {
   "cell_type": "code",
   "execution_count": null,
   "metadata": {},
   "outputs": [],
   "source": [
    "# run the function for all deps (45 to 54)\n",
    "all_missing = {}\n",
    "for i in range(45, 55):\n",
    "    missing = get_missing_images(f'dep0000{i}')\n",
    "    all_missing[f'dep0000{i}'] = missing\n"
   ]
  },
  {
   "cell_type": "code",
   "execution_count": null,
   "metadata": {},
   "outputs": [],
   "source": [
    "all_missing"
   ]
  },
  {
   "cell_type": "code",
   "execution_count": null,
   "metadata": {},
   "outputs": [],
   "source": [
    "df = pd.read_csv(f'./data/singapore/dep000047.csv')"
   ]
  },
  {
   "cell_type": "code",
   "execution_count": null,
   "metadata": {},
   "outputs": [],
   "source": [
    "df.head()"
   ]
  },
  {
   "cell_type": "code",
   "execution_count": null,
   "metadata": {},
   "outputs": [],
   "source": [
    "list(set(df['crop_status']))"
   ]
  },
  {
   "cell_type": "code",
   "execution_count": null,
   "metadata": {},
   "outputs": [],
   "source": []
  }
 ],
 "metadata": {
  "kernelspec": {
   "display_name": "Python 3",
   "language": "python",
   "name": "python3"
  },
  "language_info": {
   "codemirror_mode": {
    "name": "ipython",
    "version": 3
   },
   "file_extension": ".py",
   "mimetype": "text/x-python",
   "name": "python",
   "nbconvert_exporter": "python",
   "pygments_lexer": "ipython3",
   "version": "3.11.9"
  }
 },
 "nbformat": 4,
 "nbformat_minor": 2
}
