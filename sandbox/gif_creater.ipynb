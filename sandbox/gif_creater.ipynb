{
 "cells": [
  {
   "cell_type": "markdown",
   "id": "cbc8bf0e",
   "metadata": {},
   "source": [
    "# Gif creator\n",
    "\n",
    "This notebook will create gifs from a series of snapshots. To achieve this you will need to know the following:\n",
    "1. The central image around which the gif will be created.\n",
    "2. The deployment ID associated with the images.\n",
    "3. The country and region of the images.\n",
    "4. The number of images to include before and after the central image."
   ]
  },
  {
   "cell_type": "code",
   "execution_count": null,
   "id": "742c93b4",
   "metadata": {},
   "outputs": [],
   "source": [
    "import pandas as pd\n",
    "import os\n",
    "from amber_inferences.utils.plotting import gif_creater\n",
    "import boto3\n",
    "import json\n",
    "from boto3.s3.transfer import TransferConfig\n",
    "from IPython.display import Image, display"
   ]
  },
  {
   "cell_type": "markdown",
   "id": "1977df7f",
   "metadata": {},
   "source": [
    "## Functions"
   ]
  },
  {
   "cell_type": "code",
   "execution_count": 2,
   "id": "5ec8e373",
   "metadata": {},
   "outputs": [],
   "source": [
    "def get_images_for_gif(central_image, country, deployment, n_before, n_after, data_dir='/gws/nopw/j04/ceh_generic/kgoldmann'):\n",
    "    \"\"\"\n",
    "    Get the images for a gif based on the central image and its context.\n",
    "    \"\"\"\n",
    "\n",
    "    date_str = central_image\n",
    "\n",
    "    # if starts with 01- or 02- then strip\n",
    "    if central_image.startswith('01-') or central_image.startswith('02-'):\n",
    "        date_str = central_image[3:]\n",
    "\n",
    "    # convert to datetime\n",
    "    date_str = pd.to_datetime(date_str, format='%Y%m%d%H%M%S-snapshot.jpg')\n",
    "\n",
    "    # if the hour is after midnight, go to the day before\n",
    "    if date_str.hour < 12:\n",
    "        date_str= date_str = date_str - pd.Timedelta(days=1)\n",
    "\n",
    "    central_image = f'{data_dir}/{country}_inferences_tracking/{central_image}'\n",
    "\n",
    "    df = pd.read_csv(f'{data_dir}/{country}_inferences_tracking/{deployment}/{deployment}_{date_str.strftime(\"%Y-%m-%d\")}.csv', low_memory=False)\n",
    "\n",
    "    df['keys'] = df['image_path'].apply(lambda x: f\"{deployment}/snapshot_images/{os.path.basename(x)}\")\n",
    "\n",
    "    all_images = sorted(df['image_path'].unique())\n",
    "    central_image_index = all_images.index(central_image)\n",
    "    gif_images = all_images[max(0, central_image_index - n_before) : min(central_image_index + n_after + 1, len(all_images))]\n",
    "\n",
    "    df = df.loc[df['image_path'].isin(gif_images)]\n",
    "\n",
    "    return df"
   ]
  },
  {
   "cell_type": "code",
   "execution_count": 3,
   "id": "126e4997",
   "metadata": {},
   "outputs": [],
   "source": [
    "def initialise_session(credentials_file=\"credentials.json\"):\n",
    "    \"\"\"\n",
    "    Load AWS and API credentials from a configuration file and initialise an AWS session.\n",
    "\n",
    "    Args:\n",
    "        credentials_file (str): Path to the credentials JSON file.\n",
    "\n",
    "    Returns:\n",
    "        boto3.Client: Initialised S3 client.\n",
    "    \"\"\"\n",
    "    with open(credentials_file, encoding=\"utf-8\") as config_file:\n",
    "        aws_credentials = json.load(config_file)\n",
    "    session = boto3.Session(\n",
    "        aws_access_key_id=aws_credentials[\"AWS_ACCESS_KEY_ID\"],\n",
    "        aws_secret_access_key=aws_credentials[\"AWS_SECRET_ACCESS_KEY\"],\n",
    "        region_name=aws_credentials[\"AWS_REGION\"],\n",
    "    )\n",
    "    client = session.client(\"s3\", endpoint_url=aws_credentials[\"AWS_URL_ENDPOINT\"])\n",
    "    return client\n",
    "\n",
    "client = initialise_session('../credentials.json')\n",
    "\n",
    "# Transfer configuration for optimised S3 download\n",
    "transfer_config = TransferConfig(\n",
    "    max_concurrency=20,  # Increase the number of concurrent transfers\n",
    "    multipart_threshold=8 * 1024 * 1024,  # 8MB\n",
    "    max_io_queue=1000,\n",
    "    io_chunksize=262144,  # 256KB\n",
    ")\n",
    "\n",
    "def download_images(s3_client, config, key, download_dir, bucket_name):\n",
    "    download_path = os.path.join(download_dir, os.path.basename(key))\n",
    "    s3_client.download_file(bucket_name, key, download_path, Config=config)"
   ]
  },
  {
   "cell_type": "code",
   "execution_count": 30,
   "id": "8eb6af22",
   "metadata": {},
   "outputs": [],
   "source": [
    "def get_images(df, dir_path):\n",
    "    os.makedirs(dir_path, exist_ok=True)\n",
    "\n",
    "    # remove existing files in the temp directory\n",
    "    for file in os.listdir(dir_path):\n",
    "        file_path = os.path.join(dir_path, file)\n",
    "        try:\n",
    "            if os.path.isfile(file_path):\n",
    "                os.unlink(file_path)\n",
    "        except Exception as e:\n",
    "            print(f\"Error deleting file {file_path}: {e}\")\n",
    "\n",
    "    for i, row in df.iterrows():\n",
    "        download_images(client, transfer_config, row['keys'], dir_path, region)\n",
    "\n",
    "def make_gif(input_dir, output_dir, central_image, note):\n",
    "    # Create a gif from the images in ./temp directory\n",
    "    gif_output_path = os.path.join(output_dir, f'{note}_{os.path.basename(central_image).split(\".\")[0].replace(\"-snapshot\", \"\")}_timelapse.gif')\n",
    "\n",
    "    # Create the gifs directory if it doesn't exist\n",
    "    os.makedirs(output_dir, exist_ok=True)\n",
    "\n",
    "    # Create the gif using the gif_creater function\n",
    "    gif_creater(input_dir, gif_output_path)\n",
    "\n",
    "    print(f\"GIF created successfully at: {gif_output_path}\")\n"
   ]
  },
  {
   "cell_type": "markdown",
   "id": "62f49c83",
   "metadata": {},
   "source": [
    "## Images of interest"
   ]
  },
  {
   "cell_type": "code",
   "execution_count": 28,
   "id": "505283fc",
   "metadata": {},
   "outputs": [],
   "source": [
    "# This is a list of noteworthy images I have curated.\n",
    "noted_images = [\n",
    "    ### Thailand dep000074 to dep000078\n",
    "    {'central_image': '20240813030400-snapshot.jpg', 'deployment': 'dep000077', 'country': 'thailand', 'region': 'tha',\n",
    "     'n_before': 5, 'n_after': 20, 'note': 'civet cat'},\n",
    "    {'central_image': '20240906225129-snapshot.jpg', 'deployment': 'dep000075', 'country': 'thailand', 'region': 'tha',\n",
    "     'n_before': 5, 'n_after': 30, 'note': 'cat on 06/09'},\n",
    "    {'central_image': '20241003033409-snapshot.jpg', 'deployment': 'dep000075', 'country': 'thailand', 'region': 'tha',\n",
    "     'n_before': 5, 'n_after': 20, 'note': 'cat on 03/10'},\n",
    "\n",
    "\n",
    "    # # skip {'central_image': '20241004192419-snapshot.jpg', 'deployment': 'dep000075', 'country': 'thailand', 'region': 'tha',\n",
    "    # #  'n_before': 5, 'n_after': 50, 'note': 'cat on 04/10'},\n",
    "\n",
    "    {'central_image': '20241122232709-snapshot.jpg', 'deployment': 'dep000074', 'country': 'thailand', 'region': 'tha',\n",
    "     'n_before': 5, 'n_after': 5, 'note': 'frog jumping'},\n",
    "    {'central_image': '20240808001029-snapshot.jpg', 'deployment': 'dep000074', 'country': 'thailand', 'region': 'tha',\n",
    "     'n_before': 5, 'n_after': 5, 'note': 'frog hunting'},\n",
    "\n",
    "    ### costa rica (dep000031-40)\n",
    "    {'central_image': '01-20241121000230-snapshot.jpg', 'deployment': 'dep000032', 'country': 'costarica', 'region': 'cri',\n",
    "     'n_before': 20, 'n_after': 15, 'note': 'cricket'},\n",
    "    {'central_image': '01-20240213024750-snapshot.jpg', 'deployment': 'dep000033', 'country': 'costarica', 'region': 'cri',\n",
    "     'n_before': 20, 'n_after': 20, 'note': 'atlas moth'},\n",
    "    # skip {'central_image': '01-20240411002540-snapshot.jpg', 'deployment': 'dep000033', 'country': 'costarica', 'region': 'cri',\n",
    "    # 'n_before': 20, 'n_after': 20, 'note': 'atlas moth2'},\n",
    "    {'central_image': '20240727003709-snapshot.jpg', 'deployment': 'dep000038', 'country': 'costarica', 'region': 'cri',\n",
    "     'n_before': 12, 'n_after': 20, 'note': 'white witch'},\n",
    "    {'central_image': '01-20240210035319-snapshot.jpg', 'deployment': 'dep000034', 'country': 'costarica', 'region': 'cri',\n",
    "     'n_before': 25, 'n_after': 5, 'note': 'automeric belti eyes'},\n",
    "\n",
    "    ## singapore dep000045-54\n",
    "     {'central_image': '01-20240611010749-snapshot.jpg', 'deployment': 'dep000052', 'country': 'singapore', 'region': 'sgp',\n",
    "     'n_before': 5, 'n_after': 7, 'note': 'rat'},\n",
    "     {'central_image': '20240907011729-snapshot.jpg', 'deployment': 'dep000050', 'country': 'singapore', 'region': 'sgp',\n",
    "     'n_before': 10, 'n_after': 7, 'note': 'geckos'},\n",
    "     {'central_image': '20241007221300-snapshot.jpg', 'deployment': 'dep000050', 'country': 'singapore', 'region': 'sgp',\n",
    "     'n_before': 15, 'n_after': 10, 'note': 'geckos2'},\n",
    "     {'central_image': '01-20241128031900-snapshot.jpg', 'deployment': 'dep000045', 'country': 'singapore', 'region': 'sgp',\n",
    "     'n_before': 15, 'n_after': 15, 'note': 'snail'},\n",
    "     {'central_image': '01-20241123035219-snapshot.jpg', 'deployment': 'dep000054', 'country': 'singapore', 'region': 'sgp',\n",
    "     'n_before': 15, 'n_after': 15, 'note': 'snail2'},\n",
    "     {'central_image': '20250219224710-snapshot.jpg', 'deployment': 'dep000050', 'country': 'singapore', 'region': 'sgp',\n",
    "     'n_before': 10, 'n_after': 10, 'note': 'four_geckos'},\n",
    "     {'central_image': '20240531214339-snapshot.jpg', 'deployment': 'dep000050', 'country': 'singapore', 'region': 'sgp',\n",
    "     'n_before': 5, 'n_after': 15, 'note': 'swallowtail'}\n",
    "\n",
    "\n",
    "    #  ## kenya\n",
    "    #  {'central_image': '20241013150339-snapshot.jpg', 'deployment': 'dep000096', 'country': 'kenya', 'region': 'ken',\n",
    "    #  'n_before': 5, 'n_after': 5, 'note': 'big_moth'}\n",
    "]"
   ]
  },
  {
   "cell_type": "code",
   "execution_count": 27,
   "id": "f5b2d266",
   "metadata": {},
   "outputs": [
    {
     "name": "stdout",
     "output_type": "stream",
     "text": [
      "Processing 0: atlas moth2\n"
     ]
    }
   ],
   "source": [
    "# Loop through all noted images and download\n",
    "for i in range(len(noted_images)):\n",
    "    central_image = noted_images[i]['central_image']\n",
    "    deployment = noted_images[i]['deployment']\n",
    "    country = noted_images[i]['country']\n",
    "    region = noted_images[i]['region']\n",
    "    n_before = noted_images[i]['n_before']\n",
    "    n_after = noted_images[i]['n_after']\n",
    "    note = noted_images[i]['note']\n",
    "    print(f\"Processing {i}: {note}\")\n",
    "\n",
    "    try:\n",
    "        df = get_images_for_gif(central_image, country, deployment, n_before, n_after)\n",
    "        get_images(df, f'./temp/{note}')\n",
    "    except Exception as e:\n",
    "        print(f\"Error processing {note}: {deployment}, {e}\")"
   ]
  },
  {
   "cell_type": "code",
   "execution_count": null,
   "id": "26ed64ff",
   "metadata": {},
   "outputs": [
    {
     "name": "stdout",
     "output_type": "stream",
     "text": [
      "Creating GIF for civet cat...\n"
     ]
    }
   ],
   "source": [
    "# Loop through all noted images and turn the downloaded images into a gif\n",
    "for i in noted_images:\n",
    "    note = i['note']\n",
    "\n",
    "    print(f\"Creating GIF for {note}...\")\n",
    "\n",
    "    # Create the GIF\n",
    "    make_gif(f'./temp/{note}', f'./gifs/{i[\"country\"]}/{i[\"deployment\"]}', i['central_image'], note)"
   ]
  },
  {
   "cell_type": "code",
   "execution_count": null,
   "id": "489720bf",
   "metadata": {},
   "outputs": [],
   "source": [
    "# View the gif\n",
    "gif_output_path = './gifs/thailand/dep000077/'\n",
    "display(Image(filename=gif_output_path))"
   ]
  }
 ],
 "metadata": {
  "kernelspec": {
   "display_name": "Python 3",
   "language": "python",
   "name": "python3"
  },
  "language_info": {
   "codemirror_mode": {
    "name": "ipython",
    "version": 3
   },
   "file_extension": ".py",
   "mimetype": "text/x-python",
   "name": "python",
   "nbconvert_exporter": "python",
   "pygments_lexer": "ipython3",
   "version": "3.11.9"
  }
 },
 "nbformat": 4,
 "nbformat_minor": 5
}
